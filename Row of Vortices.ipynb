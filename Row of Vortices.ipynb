{
 "metadata": {
  "name": ""
 },
 "nbformat": 3,
 "nbformat_minor": 0,
 "worksheets": [
  {
   "cells": [
    {
     "cell_type": "heading",
     "level": 1,
     "metadata": {},
     "source": [
      "Row of Vortices"
     ]
    },
    {
     "cell_type": "heading",
     "level": 2,
     "metadata": {},
     "source": [
      "Finite Row"
     ]
    },
    {
     "cell_type": "markdown",
     "metadata": {},
     "source": [
      "As always the code starts with a header and importing the appropriate libraries."
     ]
    },
    {
     "cell_type": "code",
     "collapsed": false,
     "input": [
      "# notebook 5 - infinite row of vortices\n",
      "# started 18feb2014\n",
      "# Ian Carr\n",
      "\n",
      "import numpy as np\n",
      "import matplotlib.pyplot as plt\n",
      "from math import *\n"
     ],
     "language": "python",
     "metadata": {},
     "outputs": [],
     "prompt_number": 2
    },
    {
     "cell_type": "markdown",
     "metadata": {},
     "source": [
      "As usual, the space in which we will be working is defined as arrays then combined to be a mesh. As we are working with vortices some vortex parameters are also defined early on, in this case number of vortices in the row and the strength of the vortices."
     ]
    },
    {
     "cell_type": "code",
     "collapsed": false,
     "input": [
      "# defining space\n",
      "N = 100\n",
      "xStart,xEnd = -6.0,6.0\n",
      "yStart,yEnd = -1,1\n",
      "x = np.linspace(xStart,xEnd,N)\n",
      "y = np.linspace(yStart,yEnd,N)\n",
      "X,Y = np.meshgrid(x,y)              #defining the meshgrid\n",
      "\n",
      "# defining vortex parameters\n",
      "gamma = 1.0                         # defining vortex strength\n",
      "nVortex = 100"
     ],
     "language": "python",
     "metadata": {},
     "outputs": []
    },
    {
     "cell_type": "markdown",
     "metadata": {},
     "source": [
      "Because this is the finite row of vortices, we define a set of vortex positions. The vortices are equally spaced along the x axis. As used in prior notebooks, functions to compute the velocity field as well as the stream function are defined."
     ]
    },
    {
     "cell_type": "code",
     "collapsed": false,
     "input": [
      "# creating array of vortex position\n",
      "xVortex = np.linspace(xStart,xEnd,nVortex)\n",
      "yVortex = np.zeros_like(xVortex)\n",
      "\n",
      "# defining a function to calculate the velocity due to a vortex\n",
      "def getVelocityVortex(strength,xv,yv,X,Y):\n",
      "    u = (strength/(2*pi))*(Y-yv)/((X-xv)**2+(Y-yv)**2)\n",
      "    v = (-strength/(2*pi))*(X-xv)/((X-xv)**2+(Y-yv)**2)\n",
      "    return u,v\n",
      "    \n",
      "# defining a function to calculate vortex stream function\n",
      "def getStreamFunctionVortex(strength,xv,yv,X,Y):\n",
      "    psi = (strength/(4*pi))*(np.log((X-xv)**2+(Y-yv)**2))\n",
      "    return psi\n"
     ],
     "language": "python",
     "metadata": {},
     "outputs": []
    },
    {
     "cell_type": "markdown",
     "metadata": {},
     "source": [
      "To compute the composite velocity field for all vortices in the row, the velocity field for each vortex is added to a summed velocity field in the for loop. "
     ]
    },
    {
     "cell_type": "code",
     "collapsed": false,
     "input": [
      "# defining the velocity matrixes to be filled\n",
      "u = np.zeros_like(X)\n",
      "v = np.zeros_like(Y)\n",
      "\n",
      "# loop to produce n vortices at given positions\n",
      "for i in range(nVortex):\n",
      "    uVortex,vVortex = getVelocityVortex(gamma,xVortex[i],yVortex[i],X,Y)\n",
      "    u = u+uVortex                   # adding to final plot\n",
      "    v = v+vVortex"
     ],
     "language": "python",
     "metadata": {},
     "outputs": []
    },
    {
     "cell_type": "markdown",
     "metadata": {},
     "source": [
      "Needless to say we then plot the results."
     ]
    },
    {
     "cell_type": "code",
     "collapsed": false,
     "input": [
      "# plotting finite number of vortices\n",
      "size = 10\n",
      "plt.figure(figsize=(size,2*(yEnd-yStart)/(xEnd-xStart)*size))\n",
      "plt.xlabel('x',fontsize=16)\n",
      "plt.ylabel('y',fontsize=16)\n",
      "plt.xlim(xStart+2,xEnd-2)\n",
      "plt.ylim(yStart,yEnd)\n",
      "plt.streamplot(X,Y,u,v,density=2.0,arrowsize=1,arrowstyle='->')\n",
      "plt.scatter(xVortex,yVortex,c='r',s=80,marker='o')\n",
      "plt.show()"
     ],
     "language": "python",
     "metadata": {},
     "outputs": []
    },
    {
     "cell_type": "heading",
     "level": 2,
     "metadata": {},
     "source": [
      "Infinite Row"
     ]
    },
    {
     "cell_type": "markdown",
     "metadata": {},
     "source": [
      "To have as few repeated parameters as possible, the spacing here is based on spacing defined for the finite case. Next is an alignment correction such that the plot of the vortex centerpoints align with the actual centers of the vortices. "
     ]
    },
    {
     "cell_type": "code",
     "collapsed": false,
     "input": [
      "# defining the spacing of the vortices\n",
      "a = xVortex[2]-xVortex[1]\n",
      "\n",
      "# defining points at the center of the vortices\n",
      "if nVortex % 2 ==0:\n",
      "    xInfVortex = xVortex-(a*0.5)\n",
      "else:\n",
      "    xInfVortex = xVortex\n",
      "\n",
      "yInfVortex = np.zeros_like(xInfVortex)"
     ],
     "language": "python",
     "metadata": {},
     "outputs": []
    },
    {
     "cell_type": "markdown",
     "metadata": {},
     "source": [
      "Next we simply define the shape of the velocity field and calculate it's values."
     ]
    },
    {
     "cell_type": "code",
     "collapsed": false,
     "input": [
      "# defining shape of velocity components for infinite row\n",
      "uInfVortex = np.zeros_like(u)\n",
      "vInfVortex = np.zeros_like(v)\n",
      "\n",
      "# calculating velocity field\n",
      "uInfVortex = (gamma/(2*a))*(np.sinh((2*pi*Y/a))/(np.cosh(2*pi*Y/a)-np.cos(2*pi*X/a)))\n",
      "vInfVortex = -(gamma/(2*a))*(np.sin((2*pi*X/a))/(np.cosh(2*pi*Y/a)-np.cos(2*pi*X/a)))"
     ],
     "language": "python",
     "metadata": {},
     "outputs": []
    },
    {
     "cell_type": "markdown",
     "metadata": {},
     "source": [
      "And plot."
     ]
    },
    {
     "cell_type": "code",
     "collapsed": false,
     "input": [
      "# plotting\n",
      "size = 10\n",
      "plt.figure(figsize=(size,2*(yEnd-yStart)/(xEnd-xStart)*size))\n",
      "plt.xlabel('x',fontsize=16)\n",
      "plt.ylabel('y',fontsize=16)\n",
      "plt.xlim(xStart+2,xEnd-2)\n",
      "plt.ylim(yStart,yEnd)\n",
      "plt.streamplot(X,Y,uInfVortex,vInfVortex,density=2.0,arrowsize=1,arrowstyle='->')\n",
      "plt.scatter(xInfVortex,yInfVortex,c='r',s=80,marker='o')\n",
      "plt.show()"
     ],
     "language": "python",
     "metadata": {},
     "outputs": []
    }
   ],
   "metadata": {}
  }
 ]
}