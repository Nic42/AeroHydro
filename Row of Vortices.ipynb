{
 "metadata": {
  "name": "Row of Vortices"
 },
 "nbformat": 3,
 "nbformat_minor": 0,
 "worksheets": [
  {
   "cells": [
    {
     "cell_type": "heading",
     "level": 1,
     "metadata": {},
     "source": "Row of Vortices"
    },
    {
     "cell_type": "heading",
     "level": 2,
     "metadata": {},
     "source": "Finite Row"
    },
    {
     "cell_type": "markdown",
     "metadata": {},
     "source": "As always the code starts with a header and importing the appropriate libraries."
    },
    {
     "cell_type": "code",
     "collapsed": false,
     "input": "# notebook 5 - infinite row of vortices\n# started 18feb2014\n# Ian Carr\n\nimport numpy as np\nimport matplotlib.pyplot as plt\nfrom math import *\n",
     "language": "python",
     "metadata": {},
     "outputs": [],
     "prompt_number": 2
    },
    {
     "cell_type": "markdown",
     "metadata": {},
     "source": "As usual, the space in which we will be working is defined as arrays then combined to be a mesh. As we are working with vortices some vortex parameters are also defined early on, in this case number of vortices in the row and the strength of the vortices."
    },
    {
     "cell_type": "code",
     "collapsed": false,
     "input": "# defining space\nN = 100\nxStart,xEnd = -6.0,6.0\nyStart,yEnd = -1,1\nx = np.linspace(xStart,xEnd,N)\ny = np.linspace(yStart,yEnd,N)\nX,Y = np.meshgrid(x,y)              #defining the meshgrid\n\n# defining vortex parameters\ngamma = 1.0                         # defining vortex strength\nnVortex = 100",
     "language": "python",
     "metadata": {},
     "outputs": []
    },
    {
     "cell_type": "markdown",
     "metadata": {},
     "source": "Because this is the finite row of vortices, we define a set of vortex positions. The vortices are equally spaced along the x axis. As used in prior notebooks, functions to compute the velocity field as well as the stream function are defined."
    },
    {
     "cell_type": "code",
     "collapsed": false,
     "input": "# creating array of vortex position\nxVortex = np.linspace(xStart,xEnd,nVortex)\nyVortex = np.zeros_like(xVortex)\n\n# defining a function to calculate the velocity due to a vortex\ndef getVelocityVortex(strength,xv,yv,X,Y):\n    u = (strength/(2*pi))*(Y-yv)/((X-xv)**2+(Y-yv)**2)\n    v = (-strength/(2*pi))*(X-xv)/((X-xv)**2+(Y-yv)**2)\n    return u,v\n    \n# defining a function to calculate vortex stream function\ndef getStreamFunctionVortex(strength,xv,yv,X,Y):\n    psi = (strength/(4*pi))*(np.log((X-xv)**2+(Y-yv)**2))\n    return psi\n",
     "language": "python",
     "metadata": {},
     "outputs": []
    },
    {
     "cell_type": "markdown",
     "metadata": {},
     "source": "To compute the composite velocity field for all vortices in the row, the velocity field for each vortex is added to a summed velocity field in the for loop. "
    },
    {
     "cell_type": "code",
     "collapsed": false,
     "input": "# defining the velocity matrixes to be filled\nu = np.zeros_like(X)\nv = np.zeros_like(Y)\n\n# loop to produce n vortices at given positions\nfor i in range(nVortex):\n    uVortex,vVortex = getVelocityVortex(gamma,xVortex[i],yVortex[i],X,Y)\n    u = u+uVortex                   # adding to final plot\n    v = v+vVortex",
     "language": "python",
     "metadata": {},
     "outputs": []
    },
    {
     "cell_type": "markdown",
     "metadata": {},
     "source": "Needless to say we then plot the results."
    },
    {
     "cell_type": "code",
     "collapsed": false,
     "input": "# plotting finite number of vortices\nsize = 10\nplt.figure(figsize=(size,2*(yEnd-yStart)/(xEnd-xStart)*size))\nplt.xlabel('x',fontsize=16)\nplt.ylabel('y',fontsize=16)\nplt.xlim(xStart+2,xEnd-2)\nplt.ylim(yStart,yEnd)\nplt.streamplot(X,Y,u,v,density=2.0,arrowsize=1,arrowstyle='->')\nplt.scatter(xVortex,yVortex,c='r',s=80,marker='o')\nplt.show()",
     "language": "python",
     "metadata": {},
     "outputs": []
    },
    {
     "cell_type": "heading",
     "level": 2,
     "metadata": {},
     "source": "Infinite Row"
    },
    {
     "cell_type": "markdown",
     "metadata": {},
     "source": "To have as few repeated parameters as possible, the spacing here is based on spacing defined for the finite case. Next is an alignment correction such that the plot of the vortex centerpoints align with the actual centers of the vortices. "
    },
    {
     "cell_type": "code",
     "collapsed": false,
     "input": "# defining the spacing of the vortices\na = xVortex[2]-xVortex[1]\n\n# defining points at the center of the vortices\nif nVortex % 2 ==0:\n    xInfVortex = xVortex-(a*0.5)\nelse:\n    xInfVortex = xVortex\n\nyInfVortex = np.zeros_like(xInfVortex)",
     "language": "python",
     "metadata": {},
     "outputs": []
    },
    {
     "cell_type": "markdown",
     "metadata": {},
     "source": "Next we simply define the shape of the velocity field and calculate it's values."
    },
    {
     "cell_type": "code",
     "collapsed": false,
     "input": "# defining shape of velocity components for infinite row\nuInfVortex = np.zeros_like(u)\nvInfVortex = np.zeros_like(v)\n\n# calculating velocity field\nuInfVortex = (gamma/(2*a))*(np.sinh((2*pi*Y/a))/(np.cosh(2*pi*Y/a)-np.cos(2*pi*X/a)))\nvInfVortex = -(gamma/(2*a))*(np.sin((2*pi*X/a))/(np.cosh(2*pi*Y/a)-np.cos(2*pi*X/a)))",
     "language": "python",
     "metadata": {},
     "outputs": []
    },
    {
     "cell_type": "markdown",
     "metadata": {},
     "source": "And plot."
    },
    {
     "cell_type": "code",
     "collapsed": false,
     "input": "# plotting\nsize = 10\nplt.figure(figsize=(size,2*(yEnd-yStart)/(xEnd-xStart)*size))\nplt.xlabel('x',fontsize=16)\nplt.ylabel('y',fontsize=16)\nplt.xlim(xStart+2,xEnd-2)\nplt.ylim(yStart,yEnd)\nplt.streamplot(X,Y,uInfVortex,vInfVortex,density=2.0,arrowsize=1,arrowstyle='->')\nplt.scatter(xInfVortex,yInfVortex,c='r',s=80,marker='o')\nplt.show()",
     "language": "python",
     "metadata": {},
     "outputs": []
    }
   ],
   "metadata": {}
  }
 ]
}