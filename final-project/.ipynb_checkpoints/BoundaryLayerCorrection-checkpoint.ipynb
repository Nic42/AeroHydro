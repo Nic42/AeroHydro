{
 "metadata": {
  "name": "",
  "signature": "sha256:139827302903c67c39b64418ffe4e8524b8acf907d68d928ca7583e3cd98ee40"
 },
 "nbformat": 3,
 "nbformat_minor": 0,
 "worksheets": [
  {
   "cells": [
    {
     "cell_type": "heading",
     "level": 1,
     "metadata": {},
     "source": [
      "Boundary Layer Correction in a Two Dimensional Panel Method"
     ]
    },
    {
     "cell_type": "markdown",
     "metadata": {},
     "source": [
      "In all prior notebooks we have neglected all viscous forces. This is necessary for potential flow modelling, but this exception does result in non-negligible errors, especially at lower Reynolds numbers. This notebook will address these error by adding a boundary layer correction scheme to the potential flow code around a NACA0012 airfoil we've been working with in the last few notebooks.\n",
      "\n",
      "In two dimensional flow around an airfoil one can consider the viscous effects to be confined to a thin layer on the surface. The boundary layer, as coined by Prandtl, is a region just above the surface where the frictional effects, caused by the no-slip condition, effect the flow tremedously. Outside the boundary layer the flow can be considered inviscid, hence potential flow theory applies. The impact of this concept by Prandtl, the boundary layer, on modern aerdynamics cannot be overstated. \n",
      "\n",
      "The boundary layer begins to grow the moment the flow comes in contact with the surface of the airfoil and continues to do so until the trailing edge. At a certian point in it's evolution the boundary layer transitions from a laminar scheme to a turbulent one, aptly named the transition point. To apply these concepts to the code we've been working with we will employ three methods: Thwaites', Michaels, and Heads. Thwaites' method applies to the laminar boundary layer, Michael's criterion determines the transition point, and Head's method applies to the turbulent boundary layer.\n",
      "\n",
      "As this notebook is meant as a correction to the already very powerful panel method we've been working with it will pull heavily from Lesson 11. "
     ]
    },
    {
     "cell_type": "heading",
     "level": 2,
     "metadata": {},
     "source": [
      "Discretizition of airfoil geometry"
     ]
    },
    {
     "cell_type": "markdown",
     "metadata": {},
     "source": [
      "As always, importing the needed libraries."
     ]
    },
    {
     "cell_type": "code",
     "collapsed": false,
     "input": [
      "# importing libraries\n",
      "import numpy as np\n",
      "from scipy import integrate\n",
      "from math import *\n",
      "import matplotlib.pyplot as plt"
     ],
     "language": "python",
     "metadata": {},
     "outputs": [],
     "prompt_number": 71
    },
    {
     "cell_type": "markdown",
     "metadata": {},
     "source": [
      "We then read in and plot and airfoil geometry. "
     ]
    },
    {
     "cell_type": "code",
     "collapsed": false,
     "input": [
      "# reading geometry from file\n",
      "coords = np.loadtxt(fname='/users/ian/GitHub/AeroHydro/resources/naca0012.dat')\n",
      "xp,yp = coords[:,0],coords[:,1]\n",
      "\n",
      "# plotting the geometry\n",
      "valX,valY = 0.1,0.2\n",
      "xmin,xmax = min(xp),max(xp)\n",
      "ymin,ymax = min(yp),max(yp)\n",
      "xStart,xEnd = xmin-valX*(xmax-xmin),xmax+valX*(xmax-xmin)\n",
      "yStart,yEnd = ymin-valY*(ymax-ymin),ymax+valY*(ymax-ymin)\n",
      "size = 10\n",
      "plt.figure(figsize=(size,(yEnd-yStart)/(xEnd-xStart)*size))\n",
      "plt.grid(True)\n",
      "plt.xlabel('x',fontsize=16)\n",
      "plt.ylabel('y',fontsize=16)\n",
      "plt.xlim(xStart,xEnd)\n",
      "plt.ylim(yStart,yEnd)\n",
      "plt.plot(xp,yp,'k-',linewidth=2);"
     ],
     "language": "python",
     "metadata": {},
     "outputs": [],
     "prompt_number": 72
    },
    {
     "cell_type": "markdown",
     "metadata": {},
     "source": [
      "As with both Lesson 10 and 11, we discretize the airfoil geometry into panels using the class 'Panel' and plot the discretization."
     ]
    },
    {
     "cell_type": "code",
     "collapsed": false,
     "input": [
      "# defining class Panel with info on one panel\n",
      "class Panel:\n",
      "    def __init__(self,xa,ya,xb,yb):\n",
      "        self.xa,self.ya = xa,ya         # defining 1st point\n",
      "        self.xb,self.yb = xb,yb         # defining 2nd point\n",
      "        self.xc,self.yc = (xa+xb)/2,(ya+yb)/2   # defining center point\n",
      "        self.length = sqrt((xb-xa)**2+(yb-ya)**2) # length of the panel\n",
      "        \n",
      "        # orientation of the panel\n",
      "        if (xb-xa<=0.): self.beta = acos((yb-ya)/self.length)\n",
      "        elif (xb-xa>0.): self.beta = pi+acos(-(yb-ya)/self.length)\n",
      "        \n",
      "        # location of the panel\n",
      "        if (self.beta<=pi): self.loc = 'extrados'\n",
      "        else: self.loc = 'intrados'\n",
      "        \n",
      "        self.sigma = 0          # source strength\n",
      "        self.vt = 0             # tangential velocity\n",
      "        self.Cp = 0             # pressure coeff\n",
      "        \n",
      "# the function below discretized the geometry into panels\n",
      "# the discretization is done with a circle to distribute points\n",
      "def definePanels(N,xp,yp):\n",
      "    \n",
      "    R = (max(xp)-min(xp))/2             # radius of the circle\n",
      "    xCenter = (max(xp)-min(xp))/2       # x-coord of the center\n",
      "    xCircle = xCenter + R*np.cos(np.linspace(0,2*pi,N+1)) # x of the circle pts\n",
      "    \n",
      "    x = np.copy(xCircle)    # projection of the x-coord on the airfoil\n",
      "    y = np.empty_like(x)    # initialization of the y coord array\n",
      "    \n",
      "    xp,yp = np.append(xp,xp[0]),np.append(yp,yp[0]) # entending arrays\n",
      "    \n",
      "    I = 0\n",
      "    for i in range(N):\n",
      "        while(I<len(xp)-1):\n",
      "            if (xp[I]<=x[i]<=xp[I+1] or xp[I+1]<=x[i]<=xp[I]): break\n",
      "            else: I += 1\n",
      "        a = (yp[I+1]-yp[I])/(xp[I+1]-xp[I])\n",
      "        b = yp[I+1]-a*xp[I+1]\n",
      "        y[i] = a*x[i]+b\n",
      "    y[N] = y[0]\n",
      "    \n",
      "    panel = np.empty(N,dtype=object)\n",
      "    for i in range(N):\n",
      "        panel[i] = Panel(x[i],y[i],x[i+1],y[i+1])\n",
      "        \n",
      "    return panel\n",
      "    \n",
      "N = 20                      #  number of panels <----------------\n",
      "panel = definePanels(N,xp,yp)   # discretization of the geometry into panels"
     ],
     "language": "python",
     "metadata": {},
     "outputs": [],
     "prompt_number": 73
    },
    {
     "cell_type": "heading",
     "level": 2,
     "metadata": {},
     "source": [
      "Freestream conditions"
     ]
    },
    {
     "cell_type": "markdown",
     "metadata": {},
     "source": [
      "The airfoil is in a steady freestream condition with a velocity $U_{inf}$ at an angle of attack of $\\alpha$. This is represented by the class 'Freestream'."
     ]
    },
    {
     "cell_type": "code",
     "collapsed": false,
     "input": [
      "# class Freestream containg the freestream conditions\n",
      "class Freestream:\n",
      "    def __init__(self,Uinf,alpha):\n",
      "        self.Uinf = Uinf                # bulk flow velo\n",
      "        self.alpha = alpha*pi/180       # angle of attack\n",
      "\n",
      "# defining parameters for above class\n",
      "Uinf = 1.0                              # freestream area\n",
      "alpha = 5.0                             # angle of attack\n",
      "freestream = Freestream(Uinf,alpha)     # instant of object freestream"
     ],
     "language": "python",
     "metadata": {},
     "outputs": [],
     "prompt_number": 74
    },
    {
     "cell_type": "heading",
     "level": 2,
     "metadata": {},
     "source": [
      "Flow tangency, the Kutta condition, and the linear system"
     ]
    },
    {
     "cell_type": "markdown",
     "metadata": {},
     "source": [
      "The focus of this lesson is to demonstrate a boundary layer correction method, but to do this we first need a geometry in a potential flow field. This geometry, as stated, is a NACA0012 airfoil with the potential flow field computed using a vortex source panel method, i.e. Lesson 11. The following code is explained in the previous lessons and is necessary for this lesson but will be explained minimally as it is not the focus. \n",
      "\n",
      "In the next block of code we will be building the same linear system with the same steps in Lesson 11."
     ]
    },
    {
     "cell_type": "code",
     "collapsed": false,
     "input": [
      "# ---------- building a linear system -----------------\n",
      "\n",
      "# this system differs from the system in lesson 10 because it incorperates \n",
      "# vortices onto the panel to impose circulation to calculate lift which \n",
      "# requires the use of the kutta condition and tangential velocity/Cp\n",
      "\n",
      "# function to evaluate the integral Iij(zi)\n",
      "def I(xci,yci,pj,dxdz,dydz):\n",
      "    def func(s):\n",
      "        return (+(xci-(pj.xa-sin(pj.beta)*s))*dxdz\\\n",
      "                +(yci-(pj.ya+cos(pj.beta)*s))*dydz)\\\n",
      "               /((xci-(pj.xa-sin(pj.beta)*s))**2\\\n",
      "               + (yci-(pj.ya+cos(pj.beta)*s))**2)\n",
      "    return integrate.quad(lambda s:func(s),0.,pj.length)[0]"
     ],
     "language": "python",
     "metadata": {},
     "outputs": [],
     "prompt_number": 2
    },
    {
     "cell_type": "code",
     "collapsed": false,
     "input": [
      "# building the matrix for the source portion\n",
      "def sourceMatrix(p):\n",
      "    N = len(p)\n",
      "    A = np.empty((N,N),dtype=float)\n",
      "    np.fill_diagonal(A,0.5)\n",
      "    for i in range(N):\n",
      "        for j in range(N):\n",
      "            if (i!=j):\n",
      "                A[i,j] = 0.5/pi*I(p[i].xc,p[i].yc,p[j],+cos(p[i].beta),\\\n",
      "                                    +sin(p[i].beta))\n",
      "    return A\n",
      "    # where A is the matrix which is multiplied by the strengths on\n",
      "    # one side of the linear system of eqn"
     ],
     "language": "python",
     "metadata": {},
     "outputs": [],
     "prompt_number": 76
    },
    {
     "cell_type": "code",
     "collapsed": false,
     "input": [
      "# funciton to build the vortex portion of the system\n",
      "        \n",
      "def vortexArray(p):\n",
      "    N = len(p)\n",
      "    B = np.zeros(N,dtype=float)\n",
      "    for i in range(N):\n",
      "        for j in range(N):\n",
      "            if (j!=i):\n",
      "                B[i] -= 0.5/pi*I(p[i].xc,p[i].yc,p[j],+sin(p[i].beta),\\\n",
      "                                -cos(p[i].beta))\n",
      "    return B"
     ],
     "language": "python",
     "metadata": {},
     "outputs": [],
     "prompt_number": 77
    },
    {
     "cell_type": "code",
     "collapsed": false,
     "input": [
      "# and the kutta condition contribution to the array\n",
      "\n",
      "def kuttaArray(p):\n",
      "    N = len(p)\n",
      "    B = np.zeros(N+1,dtype=float)\n",
      "    for j in range(N):\n",
      "        if (j==0):\n",
      "            B[j] = 0.5/pi*I(p[N-1].xc,p[N-1].yc,p[j],-sin(p[N-1].beta),\\\n",
      "                            +cos(p[N-1].beta))\n",
      "        elif (j==N-1):\n",
      "            B[j] = 0.5/pi*I(p[0].xc,p[0].yc,p[j],-sin(p[0].beta),\\\n",
      "                            +cos(p[0].beta))\n",
      "        else:\n",
      "            B[j] = 0.5/pi*I(p[0].xc,p[0].yc,p[j],-sin(p[0].beta),+cos(p[0].beta))\\\n",
      "                + 0.5/pi*I(p[N-1].xc,p[N-1].yc,p[j],-sin(p[N-1].beta),+cos(p[N-1].beta))\n",
      "            B[N] -= 0.5/pi*I(p[0].xc,p[0].yc,p[j],+cos(p[0].beta),+sin(p[0].beta))\\\n",
      "                + 0.5/pi*I(p[N-1].xc,p[N-1].yc,p[j],+cos(p[N-1].beta),+sin(p[N-1].beta))\n",
      "    return B"
     ],
     "language": "python",
     "metadata": {},
     "outputs": [],
     "prompt_number": 78
    },
    {
     "cell_type": "code",
     "collapsed": false,
     "input": [
      "# these are the three parts of the linear system\n",
      "# we now assemble all these into the final matrix, called the global matrix\n",
      "\n",
      "# function to assemble the global matrix\n",
      "def buildMatrix(panel):\n",
      "    N = len(panel)\n",
      "    A = np.empty((N+1,N+1),dtype=float)\n",
      "    AS = sourceMatrix(panel)\n",
      "    BV = vortexArray(panel)\n",
      "    BK = kuttaArray(panel)\n",
      "    A[0:N,0:N],A[0:N,N],A[N,:] = AS[:,:],BV[:],BK[:]\n",
      "    return A  "
     ],
     "language": "python",
     "metadata": {},
     "outputs": [],
     "prompt_number": 79
    },
    {
     "cell_type": "code",
     "collapsed": false,
     "input": [
      "# funciton to build the RHS of the linear system\n",
      "def buildRHS(p,fs):\n",
      "    N = len(p)\n",
      "    B = np.zeros(N+1,dtype=float)\n",
      "    for i in range(N):\n",
      "        B[i] = -fs.Uinf*cos(fs.alpha-p[i].beta)\n",
      "    B[N] = -fs.Uinf*(sin(fs.alpha-p[0].beta)+sin(fs.alpha-p[N-1].beta))\n",
      "    return B"
     ],
     "language": "python",
     "metadata": {},
     "outputs": [],
     "prompt_number": 80
    },
    {
     "cell_type": "code",
     "collapsed": false,
     "input": [
      "A = buildMatrix(panel)              # calculating the singularity matrix\n",
      "B = buildRHS(panel,freestream)      # calculating the freestream RHS\n",
      "\n",
      "# solving the linear system\n",
      "var = np.linalg.solve(A,B)\n",
      "for i in range(len(panel)):\n",
      "    panel[i].sigma = var[i]\n",
      "gamma = var[-1]"
     ],
     "language": "python",
     "metadata": {},
     "outputs": [],
     "prompt_number": 81
    },
    {
     "cell_type": "markdown",
     "metadata": {},
     "source": [
      "The function 'getTangentialVelocity' is defined to, obviously, compute the tangential velocity."
     ]
    },
    {
     "cell_type": "code",
     "collapsed": false,
     "input": [
      "# ----------- imposing tangential velocity ------------------\n",
      "\n",
      "# now getting the tangential velocity to impose the kutta condition\n",
      "def getTangentialVelocity(p,fs,gamma):\n",
      "    N = len(p)\n",
      "    A = np.zeros((N,N+1),dtype=float)\n",
      "    for i in range(N):\n",
      "        for j in range(N):\n",
      "            if (i!=j):\n",
      "                A[i,j] = 0.5/pi*I(p[i].xc,p[i].yc,p[j],-sin(p[i].beta),\\\n",
      "                                +cos(p[i].beta))\n",
      "                A[i,N] -= 0.5/pi*I(p[i].xc,p[i].yc,p[j],+cos(p[i].beta),\\\n",
      "                                +sin(p[i].beta))\n",
      "\n",
      "    B = fs.Uinf*np.sin([fs.alpha-pp.beta for pp in p])\n",
      "    var = np.empty(N+1,dtype=float)\n",
      "    var = np.append([pp.sigma for pp in p],gamma)\n",
      "    vt = np.dot(A,var)+B\n",
      "    for i in range(N):\n",
      "        p[i].vt = vt[i]\n",
      "        \n",
      "getTangentialVelocity(panel,freestream,gamma) # getting tangential velocity"
     ],
     "language": "python",
     "metadata": {},
     "outputs": [],
     "prompt_number": 82
    },
    {
     "cell_type": "code",
     "collapsed": false,
     "input": [],
     "language": "python",
     "metadata": {},
     "outputs": [],
     "prompt_number": 82
    }
   ],
   "metadata": {}
  }
 ]
}