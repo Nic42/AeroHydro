{
 "metadata": {
  "name": "",
  "signature": "sha256:b0f4392110471d39b083b4c8d3f02d396bb9e9e4a8b19282eaf20579f74f77e3"
 },
 "nbformat": 3,
 "nbformat_minor": 0,
 "worksheets": [
  {
   "cells": [
    {
     "cell_type": "heading",
     "level": 1,
     "metadata": {},
     "source": [
      "Boundary Layer Correction in a Two Dimensional Panel Method"
     ]
    },
    {
     "cell_type": "heading",
     "level": 4,
     "metadata": {},
     "source": [
      "Ian Carr"
     ]
    },
    {
     "cell_type": "markdown",
     "metadata": {},
     "source": [
      "In all prior notebooks we have neglected all viscous forces. This is necessary for potential flow modelling, but this exception does result in non-negligible errors, especially at lower Reynolds numbers. This notebook will address these error by adding a boundary layer correction scheme to the potential flow code around a NACA0012 airfoil we've been working with in the last few notebooks.\n",
      "\n",
      "In two dimensional flow around an airfoil one can consider the viscous effects to be confined to a thin layer on the surface. The boundary layer, as coined by Prandtl, is a region just above the surface where the frictional effects, caused by the no-slip condition, effect the flow tremedously. Outside the boundary layer the flow can be considered inviscid, hence potential flow theory applies. The impact of this concept by Prandtl, the boundary layer, on modern aerdynamics cannot be overstated. \n",
      "\n",
      "The boundary layer begins to grow the moment the flow comes in contact with the surface of the airfoil and continues to do so until the trailing edge. At a certian point in it's evolution the boundary layer transitions from a laminar scheme to a turbulent one, aptly named the transition point. To apply these concepts to the code we've been working with we will employ three methods: Thwaites', Michaels, and Heads. Thwaites' method applies to the laminar boundary layer, Michael's criterion determines the transition point, and Head's method applies to the turbulent boundary layer.\n",
      "\n",
      "Once the various method have been applied we can do two meaningful things with the result. We can use our code to visualize the boundary layer evolution and improve our calculations of lift and drag. The result of these calculations can be compared with experimental data to show improvement.\n",
      "\n",
      "As this notebook is meant as a correction to the already very powerful panel method we've been working with it will pull heavily from Lesson 11. "
     ]
    },
    {
     "cell_type": "heading",
     "level": 2,
     "metadata": {},
     "source": [
      "Discretizition of airfoil geometry"
     ]
    },
    {
     "cell_type": "markdown",
     "metadata": {},
     "source": [
      "As always, we start by importing the necessary libraries. We are using the same airfoil geometry as in Lesson 11, so we read that in as well."
     ]
    },
    {
     "cell_type": "code",
     "collapsed": false,
     "input": [
      "# importing libraries\n",
      "import numpy as np\n",
      "from scipy import integrate\n",
      "from math import *\n",
      "import matplotlib.pyplot as plt"
     ],
     "language": "python",
     "metadata": {},
     "outputs": [],
     "prompt_number": 1
    },
    {
     "cell_type": "code",
     "collapsed": false,
     "input": [
      "# reading geometry from file\n",
      "coords = np.loadtxt(fname='../resources/naca0012.dat')\n",
      "xp,yp = coords[:,0],coords[:,1]"
     ],
     "language": "python",
     "metadata": {},
     "outputs": [],
     "prompt_number": 2
    },
    {
     "cell_type": "markdown",
     "metadata": {},
     "source": [
      "As with both Lesson 10 and 11, we define the attributes of a panel with the class Panel."
     ]
    },
    {
     "cell_type": "code",
     "collapsed": false,
     "input": [
      "# defining class Panel with info on one panel\n",
      "class Panel:\n",
      "    def __init__(self,xa,ya,xb,yb):\n",
      "        self.xa,self.ya = xa,ya         # defining 1st point\n",
      "        self.xb,self.yb = xb,yb         # defining 2nd point\n",
      "        self.xc,self.yc = (xa+xb)/2,(ya+yb)/2   # defining center point\n",
      "        self.length = sqrt((xb-xa)**2+(yb-ya)**2) # length of the panel\n",
      "        \n",
      "        # orientation of the panel\n",
      "        if (xb-xa<=0.): self.beta = acos((yb-ya)/self.length)\n",
      "        elif (xb-xa>0.): self.beta = pi+acos(-(yb-ya)/self.length)\n",
      "        \n",
      "        # location of the panel\n",
      "        if (self.beta<=pi): self.loc = 'extrados'\n",
      "        else: self.loc = 'intrados' \n",
      "        \n",
      "        self.sigma = 0          # source strength\n",
      "        self.vt = 0             # tangential velocity\n",
      "        self.Cp = 0             # pressure coeff\n",
      "        \n",
      "# the function below discretized the geometry into panels\n",
      "# the discretization is done with a circle to distribute points\n",
      "def definePanels(N,xp,yp):\n",
      "    \n",
      "    R = (max(xp)-min(xp))/2             # radius of the circle\n",
      "    xCenter = (max(xp)-min(xp))/2       # x-coord of the center\n",
      "    xCircle = xCenter + R*np.cos(np.linspace(0,2*pi,N+1)) # x of the circle pts\n",
      "    \n",
      "    x = np.copy(xCircle)    # projection of the x-coord on the airfoil\n",
      "    y = np.empty_like(x)    # initialization of the y coord array\n",
      "    \n",
      "    xp,yp = np.append(xp,xp[0]),np.append(yp,yp[0]) # entending arrays\n",
      "    \n",
      "    I = 0\n",
      "    for i in range(N):\n",
      "        while(I<len(xp)-1):\n",
      "            if (xp[I]<=x[i]<=xp[I+1] or xp[I+1]<=x[i]<=xp[I]): break\n",
      "            else: I += 1\n",
      "        a = (yp[I+1]-yp[I])/(xp[I+1]-xp[I])\n",
      "        b = yp[I+1]-a*xp[I+1]\n",
      "        y[i] = a*x[i]+b\n",
      "    y[N] = y[0]\n",
      "    \n",
      "    panel = np.empty(N,dtype=object)\n",
      "    for i in range(N):\n",
      "        panel[i] = Panel(x[i],y[i],x[i+1],y[i+1])\n",
      "        \n",
      "    return panel\n",
      "    \n",
      "N = 100                      #  number of panels <----------------\n",
      "panel = definePanels(N,xp,yp)   # discretization of the geometry into panels"
     ],
     "language": "python",
     "metadata": {},
     "outputs": [],
     "prompt_number": 3
    },
    {
     "cell_type": "heading",
     "level": 2,
     "metadata": {},
     "source": [
      "Freestream conditions"
     ]
    },
    {
     "cell_type": "markdown",
     "metadata": {},
     "source": [
      "The airfoil is in a steady freestream condition with a velocity $U_{inf}$ at an angle of attack of $\\alpha$. This is represented by the class 'Freestream'."
     ]
    },
    {
     "cell_type": "code",
     "collapsed": false,
     "input": [
      "# class Freestream containg the freestream conditions\n",
      "class Freestream:\n",
      "    def __init__(self,Uinf,alpha):\n",
      "        self.Uinf = Uinf                # bulk flow velo\n",
      "        self.alpha = alpha*pi/180       # angle of attack\n",
      "\n",
      "# defining parameters for above class\n",
      "Uinf = 100.0                              # freestream velocity\n",
      "alpha = 0.0                             # angle of attack\n",
      "freestream = Freestream(Uinf,alpha)     # instant of object freestream"
     ],
     "language": "python",
     "metadata": {},
     "outputs": [],
     "prompt_number": 4
    },
    {
     "cell_type": "heading",
     "level": 2,
     "metadata": {},
     "source": [
      "Flow tangency, the Kutta condition, and solving the linear system"
     ]
    },
    {
     "cell_type": "markdown",
     "metadata": {},
     "source": [
      "The focus of this lesson is to demonstrate a boundary layer correction method, but to do this we first need a geometry in a potential flow field. This geometry, as stated, is a NACA0012 airfoil with the potential flow field computed using a vortex source panel method, i.e. Lesson 11. The following code is explained in the previous lessons and is necessary for this lesson, but will be explained minimally as it is not the focus. \n",
      "\n",
      "In the next block of code we will be building the same linear system with the same steps in Lesson 11."
     ]
    },
    {
     "cell_type": "code",
     "collapsed": false,
     "input": [
      "# ---------- building a linear system -----------------\n",
      "\n",
      "# this system differs from the system in lesson 10 because it incorperates \n",
      "# vortices onto the panel to impose circulation to calculate lift which \n",
      "# requires the use of the kutta condition and tangential velocity/Cp\n",
      "\n",
      "# function to evaluate the integral Iij(zi)\n",
      "def I(xci,yci,pj,dxdz,dydz):\n",
      "    def func(s):\n",
      "        return (+(xci-(pj.xa-sin(pj.beta)*s))*dxdz\\\n",
      "                +(yci-(pj.ya+cos(pj.beta)*s))*dydz)\\\n",
      "               /((xci-(pj.xa-sin(pj.beta)*s))**2\\\n",
      "               + (yci-(pj.ya+cos(pj.beta)*s))**2)\n",
      "    return integrate.quad(lambda s:func(s),0.,pj.length)[0]"
     ],
     "language": "python",
     "metadata": {},
     "outputs": [],
     "prompt_number": 5
    },
    {
     "cell_type": "code",
     "collapsed": false,
     "input": [
      "# building the matrix for the source portion\n",
      "def sourceMatrix(p):\n",
      "    N = len(p)\n",
      "    A = np.empty((N,N),dtype=float)\n",
      "    np.fill_diagonal(A,0.5)\n",
      "    for i in range(N):\n",
      "        for j in range(N):\n",
      "            if (i!=j):\n",
      "                A[i,j] = 0.5/pi*I(p[i].xc,p[i].yc,p[j],+cos(p[i].beta),\\\n",
      "                                    +sin(p[i].beta))\n",
      "    return A\n",
      "    # where A is the matrix which is multiplied by the strengths on\n",
      "    # one side of the linear system of eqn"
     ],
     "language": "python",
     "metadata": {},
     "outputs": [],
     "prompt_number": 6
    },
    {
     "cell_type": "code",
     "collapsed": false,
     "input": [
      "def vortexArray(p):\n",
      "    N = len(p)\n",
      "    B = np.zeros(N,dtype=float)\n",
      "    for i in range(N):\n",
      "        for j in range(N):\n",
      "            if (j!=i):\n",
      "                B[i] -= 0.5/pi*I(p[i].xc,p[i].yc,p[j],+sin(p[i].beta),\\\n",
      "                                -cos(p[i].beta))\n",
      "    return B"
     ],
     "language": "python",
     "metadata": {},
     "outputs": [],
     "prompt_number": 7
    },
    {
     "cell_type": "code",
     "collapsed": false,
     "input": [
      "# and the kutta condition contribution to the array\n",
      "\n",
      "def kuttaArray(p):\n",
      "    N = len(p)\n",
      "    B = np.zeros(N+1,dtype=float)\n",
      "    for j in range(N):\n",
      "        if (j==0):\n",
      "            B[j] = 0.5/pi*I(p[N-1].xc,p[N-1].yc,p[j],-sin(p[N-1].beta),\\\n",
      "                            +cos(p[N-1].beta))\n",
      "        elif (j==N-1):\n",
      "            B[j] = 0.5/pi*I(p[0].xc,p[0].yc,p[j],-sin(p[0].beta),\\\n",
      "                            +cos(p[0].beta))\n",
      "        else:\n",
      "            B[j] = 0.5/pi*I(p[0].xc,p[0].yc,p[j],-sin(p[0].beta),+cos(p[0].beta))\\\n",
      "                + 0.5/pi*I(p[N-1].xc,p[N-1].yc,p[j],-sin(p[N-1].beta),+cos(p[N-1].beta))\n",
      "            B[N] -= 0.5/pi*I(p[0].xc,p[0].yc,p[j],+cos(p[0].beta),+sin(p[0].beta))\\\n",
      "                + 0.5/pi*I(p[N-1].xc,p[N-1].yc,p[j],+cos(p[N-1].beta),+sin(p[N-1].beta))\n",
      "    return B"
     ],
     "language": "python",
     "metadata": {},
     "outputs": [],
     "prompt_number": 8
    },
    {
     "cell_type": "code",
     "collapsed": false,
     "input": [
      "# these are the three parts of the linear system\n",
      "# we now assemble all these into the final matrix, called the global matrix\n",
      "\n",
      "# function to assemble the global matrix\n",
      "def buildMatrix(panel):\n",
      "    N = len(panel)\n",
      "    A = np.empty((N+1,N+1),dtype=float)\n",
      "    AS = sourceMatrix(panel)\n",
      "    BV = vortexArray(panel)\n",
      "    BK = kuttaArray(panel)\n",
      "    A[0:N,0:N],A[0:N,N],A[N,:] = AS[:,:],BV[:],BK[:]\n",
      "    return A"
     ],
     "language": "python",
     "metadata": {},
     "outputs": [],
     "prompt_number": 9
    },
    {
     "cell_type": "code",
     "collapsed": false,
     "input": [
      "# funciton to build the RHS of the linear system\n",
      "def buildRHS(p,fs):\n",
      "    N = len(p)\n",
      "    B = np.zeros(N+1,dtype=float)\n",
      "    for i in range(N):\n",
      "        B[i] = -fs.Uinf*cos(fs.alpha-p[i].beta)\n",
      "    B[N] = -fs.Uinf*(sin(fs.alpha-p[0].beta)+sin(fs.alpha-p[N-1].beta))\n",
      "    return B"
     ],
     "language": "python",
     "metadata": {},
     "outputs": [],
     "prompt_number": 10
    },
    {
     "cell_type": "code",
     "collapsed": false,
     "input": [
      "A = buildMatrix(panel)              # calculating the singularity matrix\n",
      "B = buildRHS(panel,freestream)      # calculating the freestream RHS\n",
      "\n",
      "# solving the linear system\n",
      "var = np.linalg.solve(A,B)\n",
      "for i in range(len(panel)):\n",
      "    panel[i].sigma = var[i]\n",
      "gamma = var[-1]"
     ],
     "language": "python",
     "metadata": {},
     "outputs": [],
     "prompt_number": 11
    },
    {
     "cell_type": "markdown",
     "metadata": {},
     "source": [
      "The function 'getTangentialVelocity' is defined to, obviously, compute the tangential velocity."
     ]
    },
    {
     "cell_type": "code",
     "collapsed": false,
     "input": [
      "# now getting the tangential velocity to impose the kutta condition\n",
      "def getTangentialVelocity(p,fs,gamma):\n",
      "    N = len(p)\n",
      "    A = np.zeros((N,N+1),dtype=float)\n",
      "    for i in range(N):\n",
      "        for j in range(N):\n",
      "            if (i!=j):\n",
      "                A[i,j] = 0.5/pi*I(p[i].xc,p[i].yc,p[j],-sin(p[i].beta),\\\n",
      "                                +cos(p[i].beta))\n",
      "                A[i,N] -= 0.5/pi*I(p[i].xc,p[i].yc,p[j],+cos(p[i].beta),\\\n",
      "                                +sin(p[i].beta))\n",
      "\n",
      "    B = fs.Uinf*np.sin([fs.alpha-pp.beta for pp in p])\n",
      "    var = np.empty(N+1,dtype=float)\n",
      "    var = np.append([pp.sigma for pp in p],gamma)\n",
      "    vt = np.dot(A,var)+B\n",
      "    for i in range(N):\n",
      "        p[i].vt = vt[i]\n",
      "        \n",
      "getTangentialVelocity(panel,freestream,gamma) # getting tangential velocity"
     ],
     "language": "python",
     "metadata": {},
     "outputs": [],
     "prompt_number": 12
    },
    {
     "cell_type": "heading",
     "level": 2,
     "metadata": {},
     "source": [
      "Boundary Layer Calculation"
     ]
    },
    {
     "cell_type": "markdown",
     "metadata": {},
     "source": [
      "As said in the beginning of this notebook the boundary layer calculation and subsequent correction will be done in three parts. First, the laminar portion. For a more complete and comprehensive derivation of the following equation see An Introduction to Theoretical and Computational Aerodynamics by Jack Moran."
     ]
    },
    {
     "cell_type": "heading",
     "level": 3,
     "metadata": {},
     "source": [
      "Thwaites' Method for Laminar Boundary Layer"
     ]
    },
    {
     "cell_type": "markdown",
     "metadata": {},
     "source": [
      "For these calculations a coordinate running along the surface of the airfoil is needed. This is obviously neither $x$ nor $y$ so we will define a coordinate $s$. We can use the position of the end points of the panel $a$ and $b$ and the length of the panel to calculate this running coordinate $s$. Luckily all of these parameters are defined by the class Panel we defined eariler"
     ]
    },
    {
     "cell_type": "code",
     "collapsed": false,
     "input": [
      "# find the control point on the geometry just after the stagnation point\n",
      "I = 0\n",
      "for i in range(len(panel)):\n",
      "    if (panel[i].vt/panel[0].vt<0.):\n",
      "        I = i\n",
      "        break\n",
      "\n",
      "# control point before stagnation point on upper side\n",
      "V1,x1,y1 = panel[I-1].vt,panel[I-1].xc,panel[I-1].yc\n",
      "# control point before stagnation point on lower side\n",
      "V2,x2,y2 = panel[I].vt,panel[I].xc,panel[I].yc\n",
      "\n",
      "# interpolation to find the location of the stagnation point\n",
      "xStagn,yStagn = x1-V1*(x2-x1)/(V2-V1) , y1-V1*(y2-y1)/(V2-V1)\n",
      "\n",
      "sUpper,sLower = np.zeros(I+1),np.zeros(N-I+1)\n",
      "VeUpper,VeLower = np.zeros(I+1),np.zeros(N-I+1)\n",
      "\n",
      "sUpper[1] = sqrt((xStagn-panel[I-1].xc)**2+(yStagn-panel[I-1].yc)**2)\n",
      "VeUpper[1] = -panel[I-1].vt\n",
      "sLower[1] = sqrt((xStagn-panel[I].xc)**2+(yStagn-panel[I].yc)**2)\n",
      "VeLower[1] = panel[I].vt\n",
      "\n",
      "for i in range(1,I):\n",
      "    sUpper[i+1] = sUpper[i] + panel[I-1-i].length/2\n",
      "    VeUpper[i+1] = -panel[I-1-i].vt\n",
      "for i in range(1,N-I):\n",
      "    sLower[i+1] = sLower[i] + panel[I+i].length/2\n",
      "    VeLower[i+1] = panel[I+i].vt"
     ],
     "language": "python",
     "metadata": {},
     "outputs": [],
     "prompt_number": 13
    },
    {
     "cell_type": "markdown",
     "metadata": {},
     "source": [
      "Using $s$ we can calculate the momentum thickness, $\\theta$. \n",
      "\n",
      "\\begin{equation}\n",
      "\\theta(s) = \\sqrt{\\frac{0.45\\nu}{V_{e}^{6}} \\int_{0}^{s}{V_{e}^{5} ds}},\n",
      "\\end{equation}\n",
      "\n",
      "where $V_e$ is the tangential velocity. The momentum thickness takes on a specific value at the stagnation points which is given by a separate equation.\n",
      "\n",
      "\\begin{equation}\n",
      "\\theta(0) = \\sqrt{\\frac{0.75\\nu}{\\frac{dV_e (0)}{ds}}}\n",
      "\\end{equation}\n",
      "\n",
      "Since this portion of the code does depend on some phyical properties of the flow they are listed below. "
     ]
    },
    {
     "cell_type": "code",
     "collapsed": false,
     "input": [
      "rho = 1.2                   # density of air kg/m**3\n",
      "mu = 1.9*10**-5             # dynamic viscosity of air kg/ms\n",
      "nu = mu/rho                 # kinematic viscosity\n",
      "    \n",
      "thetaUpper = np.zeros(len(sUpper),dtype=float)\n",
      "thetaLower = np.zeros(len(sLower),dtype=float)\n",
      "\n",
      "# computing the first value at the stagnation point\n",
      "thetaUpper[0] = sqrt(0.75*nu/abs((VeUpper[1]-VeUpper[0])/(sUpper[1]-sUpper[0])))\n",
      "thetaLower[0] = sqrt(0.75*nu/abs((VeLower[1]-VeLower[0])/(sLower[1]-sLower[0])))\n",
      "\n",
      "# integration using the trapezoidal rule: Numpy function np.trapz\n",
      "for i in range(1,len(thetaUpper)):\n",
      "    thetaUpper[i] = sqrt(0.45*nu/VeUpper[i]**6*np.trapz(VeUpper[0:i+1]**5,sUpper[0:i+1]))\n",
      "for i in range(1,len(thetaLower)):\n",
      "    thetaLower[i] = sqrt(0.45*nu/VeLower[i]**6*np.trapz(VeLower[0:i+1]**5,sLower[0:i+1]))"
     ],
     "language": "python",
     "metadata": {},
     "outputs": [],
     "prompt_number": 14
    },
    {
     "cell_type": "markdown",
     "metadata": {},
     "source": [
      "For the next calculation we will need the derivative of tangential velocity with the running coordinate $s$, $\\frac{dV_e}{ds}$."
     ]
    },
    {
     "cell_type": "code",
     "collapsed": false,
     "input": [
      "dVedsUpper = np.zeros(len(VeUpper),dtype=float)\n",
      "dVedsLower = np.zeros(len(VeLower),dtype=float)\n",
      "\n",
      "# defining fucntion to calculate derivative\n",
      "def gradient(y,x):\n",
      "    return np.gradient(y,np.append(x[1]-x[0],x[1:len(x)]-x[0:len(x)-1]))\n",
      "\n",
      "# calculating the gradient of velocity\n",
      "dVedsUpper = gradient(VeUpper,sUpper)\n",
      "dVedsLower = gradient(VeLower,sUpper)"
     ],
     "language": "python",
     "metadata": {},
     "outputs": [],
     "prompt_number": 15
    },
    {
     "cell_type": "markdown",
     "metadata": {},
     "source": [
      "Once the momentum thickness is calculated you can use this to calculate the pressure-gradient parameter, as Thwaites calls it, denoted $\\lambda$.\n",
      "\n",
      "\\begin{equation}\n",
      "\\lambda \\equiv \\frac{\\rho \\theta^2}{\\mu} \\frac{dV_e}{ds}\n",
      "\\end{equation}\n"
     ]
    },
    {
     "cell_type": "code",
     "collapsed": false,
     "input": [
      "# calculating the pressure gradient parameter           \n",
      "lambdaUpper = np.zeros(len(sUpper),dtype=float)\n",
      "lambdaLower = np.zeros(len(sLower),dtype=float)\n",
      "\n",
      "for i in range(len(lambdaUpper)):\n",
      "    lambdaUpper[i] = ((rho*thetaUpper[i]**2)/mu)*(dVedsUpper[i])\n",
      "    lambdaUpper[i] = ((rho*thetaUpper[i]**2)/mu)*(dVedsLower[i])"
     ],
     "language": "python",
     "metadata": {},
     "outputs": [],
     "prompt_number": 16
    },
    {
     "cell_type": "markdown",
     "metadata": {},
     "source": [
      "You can then use correlations calculated by Cebecci & Bradshaw to get the shape factor H. \n",
      "\n",
      "\\begin{equation}\n",
      "H(\\lambda) = 2.61 - 3.75 \\lambda + 5.24 \\lambda^2 \\quad\\quad \\text{when} \\quad 0<\\lambda<0.1\n",
      "\\end{equation}\n",
      "\n",
      "\\begin{equation}\n",
      "H(\\lambda) = 2.088 + \\frac{0.0731}{\\lambda+0.14} \\quad\\quad \\text{when}\\quad -0.1<\\lambda<0\n",
      "\\end{equation}"
     ]
    },
    {
     "cell_type": "code",
     "collapsed": false,
     "input": [
      "# calculating the shape factor from lambda\n",
      "HUpper = np.zeros(len(sUpper),dtype=float)\n",
      "HLower = np.zeros(len(sLower),dtype=float)\n",
      "\n",
      "for i in range(len(HUpper)):\n",
      "    if lambdaUpper[i]>0 and lambdaUpper[i]<0.1:\n",
      "        HUpper[i] = 2.61-3.75*lambdaUpper[i]+5.24*lambdaUpper[i]**2\n",
      "    if lambdaUpper[i]>-0.1 and lambdaUpper[i]<=0:\n",
      "        HUpper[i] = 2.088+(0.0731/(lambdaUpper[i]+0.14))"
     ],
     "language": "python",
     "metadata": {},
     "outputs": [],
     "prompt_number": 17
    },
    {
     "cell_type": "markdown",
     "metadata": {},
     "source": [
      "From the shape factor one can use its definition to find the displacement thickness $\\delta^\\star$,\n",
      "\n",
      "\\begin{equation}\n",
      "H \\equiv \\frac{\\delta^\\star}{\\theta},\n",
      "\\end{equation}\n",
      "\n",
      "but this will be done later as this part of the calcualtion only applies to the laminar portion and this method of calculating the displacement thickness applies for both laminar and turbulent regions.\n",
      "\n",
      "Another important parameter we can calculate using coorelations and the pressure gradient parameter is $\\lambda$ is the skin friction, $c_f$. The calculation is done through the Reynolds number independent paramter $l$ as shown. This calculation is done now as these correlations only apply to the laminar portion.\n",
      "\n",
      "\\begin{equation}\n",
      "l(\\lambda) = 0.22 + 1.57\\lambda -1.8 \\lambda^2 \\quad \\quad \\text{when} \\quad 0<\\lambda<0.1\n",
      "\\end{equation}\n",
      "\n",
      "\\begin{equation}\n",
      "l(\\lambda) = 0.22 + 1.402\\lambda +\\frac{0.018\\lambda}{\\lambda+ 0.107} \\quad\\quad \\text{when}\\quad -0.1<\\lambda<0\n",
      "\\end{equation}"
     ]
    },
    {
     "cell_type": "code",
     "collapsed": false,
     "input": [
      "# calculating the parameter l\n",
      "lUpper = np.zeros(len(sUpper),dtype=float)\n",
      "lLower = np.zeros(len(sLower),dtype=float)\n",
      "\n",
      "for i in range(len(sUpper)):\n",
      "    if lambdaUpper[i]>0 and lambdaUpper[i]<0.1:\n",
      "        lUpper[i] = 0.22+1.402*lambdaUpper[i] + (0.018*lambdaUpper[i])/\\\n",
      "                    (lambdaUpper[i]+0.107)\n",
      "    if lambdaUpper[i]>-0.1 and lambdaUpper[i]<=0:\n",
      "        lUpper[i] = 2.088+(0.0731)/(lambdaUpper[i]+0.14)"
     ],
     "language": "python",
     "metadata": {},
     "outputs": [],
     "prompt_number": 18
    },
    {
     "cell_type": "markdown",
     "metadata": {},
     "source": [
      "One can then use the definition of $l$ to calculate $c_f$, \n",
      "\n",
      "\\begin{equation}\n",
      "l \\equiv \\frac{1}{2} Re_{\\theta} c_f,\n",
      "\\end{equation}\n",
      "\n",
      "where $Re_{\\theta} is the Reynolds Number based on momentum thickness.\n",
      "\n",
      "\\begin{equation}\n",
      "Re_{\\theta} \\equiv \\frac{\\rho V_e \\theta}{\\mu}\n",
      "\\end{equation}\n",
      "\n",
      "The calculation up to this point will contain data for all points along the airfoil. Some of these points, those after the transition point, are going to be overwritten later on."
     ]
    },
    {
     "cell_type": "code",
     "collapsed": false,
     "input": [
      "# calculating the coefficient of friction\n",
      "cfUpper = np.zeros(len(sUpper),dtype=float)\n",
      "cfLower = np.zeros(len(sLower),dtype=float)\n",
      "\n",
      "for i in range(len(sUpper)):\n",
      "    cfUpper[i] = 2*lUpper[i]*(VeUpper[i]*thetaUpper[i]/nu)"
     ],
     "language": "python",
     "metadata": {},
     "outputs": [],
     "prompt_number": 19
    },
    {
     "cell_type": "heading",
     "level": 3,
     "metadata": {},
     "source": [
      "Michael's Transition Criterion"
     ]
    },
    {
     "cell_type": "markdown",
     "metadata": {},
     "source": [
      "As mentioned at some point in it's evolution the boundary layer transitions from laminar flow to turbulent. With the parameters calculated with Thwaites' method the point of transion for airfoil-type applications is expected when\n",
      "\n",
      "\\begin{equation}\n",
      "Re_{\\theta} > 1.174(1+ \\frac{22,400}{Re_s})Re_{s}^{0.46}\n",
      "\\end{equation}\n",
      "\n",
      "where $Re_s$ is the Reynolds number based on the position along the airfoil, as shown.\n",
      "\n",
      "\\begin{equation}\n",
      "Re_s \\equiv \\frac{\\rho V_e s}{\\mu}\n",
      "\\end{equation}\n",
      "\n",
      "When the looping checking for Michael's Criterion find the point of transition we mark the position of transition and label all the parameters at the tranistion point for use in the next section."
     ]
    },
    {
     "cell_type": "code",
     "collapsed": false,
     "input": [
      "# the criterion is entirely based on the reynolds numbers computed below\n",
      "ReTheta = np.zeros_like(VeUpper)\n",
      "ReS = np.zeros_like(ReTheta)\n",
      "mc = np.zeros_like(ReS)                         # transition criterion   \n",
      "\n",
      "for i in range(1,len(mc)-1):\n",
      "    ReTheta[i] = (rho*VeUpper[i]*thetaUpper[i])/mu     # Re based on momentum thickness\n",
      "    ReS[i] = (rho*VeUpper[i]*sUpper[i])/mu             # Re based on position\n",
      "    mc[i] = 1.174*(1+(22400/ReS[i]))*ReS[i]**0.46      # transition criterion\n",
      "    if mc[i]<ReTheta[i]:\n",
      "        print 'Transition point at: ', sUpper[i]\n",
      "        iTrans = i\n",
      "        sTrans = sUpper[i]                      # used to overwrite in head's\n",
      "        thetaTrans = thetaUpper[i]\n",
      "        HTrans = HUpper[i-1]\n",
      "        break"
     ],
     "language": "python",
     "metadata": {},
     "outputs": [
      {
       "output_type": "stream",
       "stream": "stdout",
       "text": [
        "Transition point at:  0.196045893789\n"
       ]
      }
     ],
     "prompt_number": 20
    },
    {
     "cell_type": "heading",
     "level": 3,
     "metadata": {},
     "source": [
      "Head's Method for Turbulent Boundary Layers"
     ]
    },
    {
     "cell_type": "markdown",
     "metadata": {},
     "source": [
      "For the purposes of this notebook Head's Method consists of four equations and four unknowns. Three of these unknowns are the same parameters calculated in Twaites' Method, the momentum thickness $\\theta$, the shape factor $H$, and the skin-friction $c_f$. The fourth unknown parameter is the extrainment shape factor which Head calls $H_1$, which only depends on the value of $H$. The first value of $H$ is determined by it's value at transition. \n",
      "\n",
      "Our program is now tasked with solving four equations, two of which are differential, simultaneously. These four equations are as follows.\n",
      "\n",
      "The von Karman momentum integral equation.\n",
      "\n",
      "\\begin{equation}\n",
      "\\frac{d\\theta}{dx} + \\frac{\\theta}{V_e} (2+H) \\frac{dV_e}{dx} = \\frac{1}{2} c_f\n",
      "\\end{equation}\n",
      "\n",
      "Cebeci and Bradshaw's correlations from experimental data which we will call head's equation.\n",
      "\n",
      "\\begin{equation}\n",
      "\\frac{1}{V_e} \\frac{d}{dx} (V_e \\theta H_1) = 0.0306(H_1 -3)^{-0.6169}\n",
      "\\end{equation}\n",
      "\n",
      "Cebeci and Bradshaw's conditional equations for $H_1$.\n",
      "\n",
      "\\begin{equation}\n",
      "H_1 = 3.3 + 0.8234(H-1.1)^{-1.287} \\quad \\quad \\text{for}\\quad H \\le 1.6\n",
      "\\end{equation}\n",
      "\n",
      "\\begin{equation}\n",
      "H_1 = 3.3 + 1.5501(H-0.6678)^{-3.064} \\quad \\quad \\text{for}\\quad H > 1.6\n",
      "\\end{equation}\n",
      "\n",
      "Finally, Ludwieg-Tillman's skin-friction \"law\".\n",
      "\n",
      "\\begin{equation}\n",
      "c_f = 0.246 * 10^{-0.678H} Re_{\\theta}^{-0.268}\n",
      "\\end{equation}\n"
     ]
    },
    {
     "cell_type": "heading",
     "level": 3,
     "metadata": {},
     "source": [
      "Solving the turbulent boundary layer system"
     ]
    },
    {
     "cell_type": "markdown",
     "metadata": {},
     "source": [
      "Solving a this system of equations is not a simple task. We are first going to define functions to calculate the skin friction coefficient, $c_f$, then the entrainment shape factor, $H_1$."
     ]
    },
    {
     "cell_type": "code",
     "collapsed": false,
     "input": [
      "# skin friction\n",
      "def cf(theta,H,Ve,nu):\n",
      "    return 0.246*10.**(-0.678*H)*(theta*Ve/nu)**(-0.268)\n",
      "    \n",
      "# entrainment shape factor\n",
      "def fH1(H):\n",
      "    if (H<=1.6): \n",
      "        return 3.3 + 0.8234*(H-1.1)**(-1.287)\n",
      "    else: return 3.3 + 1.5501*(H-0.6678)**(-3.064)"
     ],
     "language": "python",
     "metadata": {},
     "outputs": [],
     "prompt_number": 21
    },
    {
     "cell_type": "markdown",
     "metadata": {},
     "source": [
      "We will be solving the system of equations using Euler's method. To do so we will need the inverse of the operation stated above, i.e. changing $f(H) = H_1$ to $ f(H_1) = H$."
     ]
    },
    {
     "cell_type": "code",
     "collapsed": false,
     "input": [
      "# shape factor, the inverse function\n",
      "def fH(H1):\n",
      "    H = 1.1 + ((H1-3.3)/0.8234)**(-(1./1.287))\n",
      "    if (H<=1.6):\n",
      "        return H\n",
      "    else: return 0.6678 + ((H1-3.3)/1.5501)**(-(1./3.064))"
     ],
     "language": "python",
     "metadata": {},
     "outputs": [],
     "prompt_number": 22
    },
    {
     "cell_type": "markdown",
     "metadata": {},
     "source": [
      "Before we can define functions for the other two equations we have to get them into a form we can work with. First, von Karman's momentum integral equation. We simply rearrange it to like like this, \n",
      "\n",
      "\\begin{equation}\n",
      "\\frac{d \\theta}{dx} = - \\frac{\\theta}{V_e} (2+H) \\frac{dV_e}{ds} + \\frac{1}{2} c_f,\n",
      "\\end{equation}\n",
      "\n",
      "which can be represented by\n",
      "\n",
      "\\begin{equation}\n",
      "\\frac{d \\theta}{dx} = RHS_1(\\theta , H, V_e, \\frac{dV_e}{ds}, \\nu , c_f) .\n",
      "\\end{equation}"
     ]
    },
    {
     "cell_type": "markdown",
     "metadata": {},
     "source": [
      "We can then do a similar, but slightly more involved, procedure with Head's equation. We can start by isolating the derivative term. \n",
      "\n",
      "\\begin{equation}\n",
      "\\frac{d(V_e \\theta H_1)}{ds} = 0.0306 V_e (H_1 - 3)^{-0.6169}\n",
      "\\end{equation}\n",
      "\n",
      "We can then manipulate the derivative such that we are solving only for the entrainment velocity term.\n",
      "\n",
      "\\begin{equation}\n",
      "\\frac{dH_1}{ds} = -\\frac{H_1}{\\theta} \\frac{d \\theta}{ds} - \\frac{H_1}{V_e} \\frac{dV_e}{ds} + (0.0306 V_e (H_1 - 3)^{-0.6169})\n",
      "\\end{equation}\n",
      "\n",
      "which is represented computationally as\n",
      "\n",
      "\\begin{equation}\n",
      "\\frac{dH_1}{ds} = RHS_2(H_1, \\theta, H, V_e, \\frac{dV_e}{ds}, \\nu)\n",
      "\\end{equation}\n",
      "\n",
      "we can then insert the $\\frac{d\\theta}{ds}$ (represented by $RHS_1$) term we solved for previously to get the desired form.\n",
      "\n",
      "\\begin{equation}\n",
      "RHS_2 = -\\frac{H_1}{\\theta} RHS_1 - \\frac{H_1}{V_e} \\frac{dV_e}{ds} + 0.0306 V_e (H_1 -3)^{-0.6169}\n",
      "\\end{equation}"
     ]
    },
    {
     "cell_type": "code",
     "collapsed": false,
     "input": [
      "# von Karman momentum integral equation    \n",
      "def F(H1):\n",
      "    return 0.0306*(H1-3.)**(-0.6169)\n",
      "    \n",
      "def RHS1(theta,H,Ve,nu,dVeds):\n",
      "    return 0.5*cf(theta,H,Ve,nu) - theta/Ve*(2+H)*dVeds\n",
      "\n",
      "def RHS2(H1,theta,H,Ve,nu,dVeds):\n",
      "    return -(H1/theta)*RHS1(theta,H,Ve,nu,dVeds) - (H1/Ve)*dVeds + F(H1)/theta"
     ],
     "language": "python",
     "metadata": {},
     "outputs": [],
     "prompt_number": 23
    },
    {
     "cell_type": "markdown",
     "metadata": {},
     "source": [
      "To solve two ODEs, with the unknowns $H_1$ and $\\theta$, we can use an Euler method which works in steps from the tranition point to the trailing edge of the airfoil. The initial conditions for the ODE are the values at transition calculated using Thwaites' method and marked with Michael's Transition Criterion."
     ]
    },
    {
     "cell_type": "code",
     "collapsed": false,
     "input": [
      "H1Upper = np.zeros(len(sUpper),dtype=float)\n",
      "\n",
      "# initial condition (at the transition point)\n",
      "H1Upper[iTrans] = fH1(HTrans)\n",
      "HUpper[iTrans] = HTrans\n",
      "thetaUpper[iTrans] = thetaTrans\n",
      "\n",
      "# advancing to the next point\n",
      "for i in range(iTrans,len(sUpper)-1):\n",
      "    h = sUpper[i+1]-sUpper[i]\n",
      "    thetaUpper[i+1] = thetaUpper[i] + h*RHS1(thetaUpper[i],HUpper[i],\\\n",
      "                                            VeUpper[i],nu,dVedsUpper[i])\n",
      "    H1Upper[i+1] = H1Upper[i] + h*RHS2(H1Upper[i],thetaUpper[i],HUpper[i],\\\n",
      "                                        VeUpper[i],nu,dVedsUpper[i])\n",
      "    HUpper[i+1] = fH(H1Upper[i+1])\n",
      "    cfUpper[i] = cf(thetaUpper[i],HUpper[i],VeUpper[i],nu)"
     ],
     "language": "python",
     "metadata": {},
     "outputs": [],
     "prompt_number": 24
    },
    {
     "cell_type": "markdown",
     "metadata": {},
     "source": [
      "We can finally back out the value of the displacement thickness from it's definition, i.e.\n",
      "\n",
      "\\begin{equation}\n",
      "\\delta^{\\star} = H \\theta\n",
      "\\end{equation}"
     ]
    },
    {
     "cell_type": "code",
     "collapsed": false,
     "input": [
      "deltaUpper = np.zeros(len(sUpper),dtype=float)\n",
      "deltaLower = np.zeros(len(sLower),dtype=float)\n",
      "\n",
      "# calculating displacement thickness\n",
      "deltaUpper = HUpper*thetaUpper\n",
      " \n",
      "plt.figure(figsize=(10,6))\n",
      "plt.plot(sUpper,deltaUpper)"
     ],
     "language": "python",
     "metadata": {},
     "outputs": [
      {
       "metadata": {},
       "output_type": "pyout",
       "prompt_number": 25,
       "text": [
        "[<matplotlib.lines.Line2D at 0x99860b8>]"
       ]
      }
     ],
     "prompt_number": 25
    },
    {
     "cell_type": "markdown",
     "metadata": {},
     "source": [
      "This, then, can be used to visualize the boundary layer thickness with a little geometry work to convert the running coordinate back into $(x,y)$. \n",
      "\n",
      "Now to get to the visualization, the first step, and there may be more graceful ways, is to get the coordinate arrays over which we will be plotting. These are extracted from the class Panel we made so long ago. "
     ]
    },
    {
     "cell_type": "code",
     "collapsed": false,
     "input": [
      "# creating separate position arrays for plotting\n",
      "xcLower = [p.xc for p in panel if p.loc=='intrados']\n",
      "ycLower = [p.yc for p in panel if p.loc=='intrados']\n",
      "\n",
      "xcUpper = [p.xc for p in panel if p.loc=='extrados']\n",
      "ycUpper = [p.yc for p in panel if p.loc=='extrados']\n",
      "\n",
      "betaUpper = [p.beta for p in panel if p.loc=='extrados']\n",
      "betaLower = [p.beta for p in panel if p.loc=='intrados']"
     ],
     "language": "python",
     "metadata": {},
     "outputs": [],
     "prompt_number": 26
    },
    {
     "cell_type": "markdown",
     "metadata": {},
     "source": [
      "We can then map the values of the magnitude of the displacement thickness onto the airfoil and plot it."
     ]
    },
    {
     "cell_type": "code",
     "collapsed": false,
     "input": [
      "# adding the height of the displacement thickness to the airfoil\n",
      "xDeltaUpper = np.zeros(len(sUpper),dtype=float)\n",
      "yDeltaUpper = np.zeros(len(sUpper),dtype=float)\n",
      "\n",
      "# flipping the order such that it can be mapped\n",
      "deltaUpper = deltaUpper[::-1]\n",
      "\n",
      "# the boundary layer is very thin so for visualization purposes it's \n",
      "# magnitude is multiplied by 20\n",
      "\n",
      "for i in range(len(xcUpper)):\n",
      "    xDeltaUpper[i] = (deltaUpper[i]*np.cos(betaUpper[i]))*20+xcUpper[i]\n",
      "    yDeltaUpper[i] = (deltaUpper[i]*np.sin(betaUpper[i]))*20+ycUpper[i]\n",
      "\n",
      "# plotting the discretized geometry\n",
      "%matplotlib inline\n",
      "\n",
      "valX,valY = 0.1,0.2\n",
      "xmin,xmax = min([p.xa for p in panel]),max([p.xa for p in panel])\n",
      "ymin,ymax = min([p.ya for p in panel]),max([p.ya for p in panel])\n",
      "xStart,xEnd = xmin-valX*(xmax-xmin),xmax+valY*(xmax-xmin)\n",
      "yStart,yEnd = ymin-valY*(ymax-ymin),ymax+valY*(ymax-ymin)\n",
      "size = 20\n",
      "plt.figure(figsize=(size,(yEnd-yStart)/(xEnd-xStart)*size))\n",
      "plt.grid(True)\n",
      "plt.xlabel('x',fontsize=16)\n",
      "plt.ylabel('y',fontsize=16)\n",
      "plt.title('Displacement Thickness')\n",
      "plt.xlim(xStart,xEnd)\n",
      "plt.ylim(yStart,yEnd)\n",
      "plt.plot(xp,yp,'k-',linewidth=2)\n",
      "plt.plot(xDeltaUpper,yDeltaUpper,linewidth=2)\n",
      "plt.show()  "
     ],
     "language": "python",
     "metadata": {},
     "outputs": [
      {
       "metadata": {},
       "output_type": "display_data",
       "png": "[encoded data removed]",
       "text": [
        "<matplotlib.figure.Figure at 0xdaa3908>"
       ]
      }
     ],
     "prompt_number": 27
    },
    {
     "cell_type": "heading",
     "level": 3,
     "metadata": {},
     "source": [
      "Skin Friction and Wall Shear Stress"
     ]
    },
    {
     "cell_type": "markdown",
     "metadata": {},
     "source": [
      "Now that the laminar,transition and turbulent regions have been modeled we can calculate the parameters we've been working towards. First for conveinience we create the variable 'cord' which is the cord length used in these calculations.\n"
     ]
    },
    {
     "cell_type": "code",
     "collapsed": false,
     "input": [
      "# calculating the cord length\n",
      "cord = max([p.xa for p in panel])-min([p.xa for p in panel])"
     ],
     "language": "python",
     "metadata": {},
     "outputs": [],
     "prompt_number": 28
    },
    {
     "cell_type": "markdown",
     "metadata": {},
     "source": [
      "We can then use the value of skin friction, $c_f$, to calculate the wall shear stress with\n",
      "\n",
      "\\begin{equation}\n",
      "\\tau_w = c_f \\frac{1}{2} \\rho V_e^{2}\n",
      "\\end{equation}\n",
      "\n",
      "We then integrate this value over the area of the airfoil and double it to account for both side, top and bottom."
     ]
    },
    {
     "cell_type": "code",
     "collapsed": false,
     "input": [
      "# calculating the wall shear stress from the skin friction\n",
      "tauWall = np.zeros(len(sUpper),dtype=float)\n",
      "tauWallTotal = np.zeros(len(sUpper),dtype=float)\n",
      "\n",
      "# integrating the value of wall shear stress over the airfoil surface\n",
      "for i in range(1,len(sUpper)-1):\n",
      "    tauWall[i] = cfUpper[i]*0.5*rho*VeUpper[i]\n",
      "    tauWallTotal[i] = (sUpper[i+1]-sUpper[i])*tauWall[i]\n",
      "print 'Wall Shear Stress = ', sum(tauWallTotal)"
     ],
     "language": "python",
     "metadata": {},
     "outputs": [
      {
       "output_type": "stream",
       "stream": "stdout",
       "text": [
        "Wall Shear Stress =  28735.3693607\n"
       ]
      }
     ],
     "prompt_number": 29
    },
    {
     "cell_type": "markdown",
     "metadata": {},
     "source": [
      "We then use the value the wall shear to calculate the coeffiecient of drag. and print the Reynolds number for reference."
     ]
    },
    {
     "cell_type": "code",
     "collapsed": false,
     "input": [
      "# doulbing the wall shear stress for both sides.\n",
      "totalWallShear = 2*sum(tauWallTotal)\n",
      "\n",
      "# calculating drag coefficient\n",
      "Cd = 2*(totalWallShear/(.5*Uinf**2*cord))\n",
      "\n",
      "print 'Coefficient of drag = ', Cd\n",
      "\n",
      "# calculating airfoil Reynold number\n",
      "Re = Uinf*(cord)/nu\n",
      "print 'Reynolds Number = ', Re"
     ],
     "language": "python",
     "metadata": {},
     "outputs": [
      {
       "output_type": "stream",
       "stream": "stdout",
       "text": [
        "Coefficient of drag =  22.9882954886\n",
        "Reynolds Number =  6315789.47368\n"
       ]
      }
     ],
     "prompt_number": 30
    },
    {
     "cell_type": "heading",
     "level": 2,
     "metadata": {},
     "source": [
      "Limitations"
     ]
    },
    {
     "cell_type": "markdown",
     "metadata": {},
     "source": [
      "As it is now the code is only written for the top side of the airfoil. To work with the running coordniate $s$ we have to split the analysis up and the code would need to be twice as long to calculate with both side. Besides that there is no current method to determine the stagnation point so it must be at the forward most position. This restricts the angle of attack to 0. \n",
      "\n",
      "There are also obvious issues at the point of transition. The transition should be smooth but as can be seen in the plot of the displacement thickness, the transition is not smooth. There is also error at the trailing edge due to the euler method. Apart from this the values of the boundary layer thickness, wall shear, and coefficient of drag which suggest some greater issues."
     ]
    },
    {
     "cell_type": "code",
     "collapsed": false,
     "input": [
      "from IPython.core.display import HTML\n",
      "def css_styling():\n",
      "    styles = open('../styles/custom.css', 'r').read()\n",
      "    return HTML(styles)\n",
      "css_styling()"
     ],
     "language": "python",
     "metadata": {},
     "outputs": [
      {
       "html": [
        "<link href='http://fonts.googleapis.com/css?family=Fenix' rel='stylesheet' type='text/css'>\n",
        "<link href='http://fonts.googleapis.com/css?family=Alegreya+Sans:100,300,400,500,700,800,900,100italic,300italic,400italic,500italic,700italic,800italic,900italic' rel='stylesheet' type='text/css'>\n",
        "<link href='http://fonts.googleapis.com/css?family=Source+Code+Pro:300,400' rel='stylesheet' type='text/css'>\n",
        "<style>\n",
        "    @font-face {\n",
        "        font-family: \"Computer Modern\";\n",
        "        src: url('http://mirrors.ctan.org/fonts/cm-unicode/fonts/otf/cmunss.otf');\n",
        "    }\n",
        "    div.cell{\n",
        "        width:800px;\n",
        "        margin-left:16% !important;\n",
        "        margin-right:auto;\n",
        "    }\n",
        "    h1 {\n",
        "        font-family: 'Alegreya Sans', sans-serif;\n",
        "    }\n",
        "    h2 {\n",
        "        font-family: 'Fenix', serif;\n",
        "    }\n",
        "    h3{\n",
        "\t\tfont-family: 'Fenix', serif;\n",
        "        margin-top:12px;\n",
        "        margin-bottom: 3px;\n",
        "       }\n",
        "\th4{\n",
        "\t\tfont-family: 'Fenix', serif;\n",
        "       }\n",
        "    h5 {\n",
        "        font-family: 'Alegreya Sans', sans-serif;\n",
        "    }\t   \n",
        "    div.text_cell_render{\n",
        "        font-family: 'Alegreya Sans',Computer Modern, \"Helvetica Neue\", Arial, Helvetica, Geneva, sans-serif;\n",
        "        line-height: 135%;\n",
        "        font-size: 120%;\n",
        "        width:600px;\n",
        "        margin-left:auto;\n",
        "        margin-right:auto;\n",
        "    }\n",
        "    .CodeMirror{\n",
        "            font-family: \"Source Code Pro\";\n",
        "\t\t\tfont-size: 90%;\n",
        "    }\n",
        "/*    .prompt{\n",
        "        display: None;\n",
        "    }*/\n",
        "    .text_cell_render h1 {\n",
        "        font-weight: 200;\n",
        "        font-size: 50pt;\n",
        "\t\tline-height: 100%;\n",
        "        color:#CD2305;\n",
        "        margin-bottom: 0.5em;\n",
        "        margin-top: 0.5em;\n",
        "        display: block;\n",
        "    }\t\n",
        "    .text_cell_render h5 {\n",
        "        font-weight: 300;\n",
        "        font-size: 16pt;\n",
        "        color: #CD2305;\n",
        "        font-style: italic;\n",
        "        margin-bottom: .5em;\n",
        "        margin-top: 0.5em;\n",
        "        display: block;\n",
        "    }\n",
        "    \n",
        "    .warning{\n",
        "        color: rgb( 240, 20, 20 )\n",
        "        }  \n",
        "</style>\n",
        "<script>\n",
        "    MathJax.Hub.Config({\n",
        "                        TeX: {\n",
        "                           extensions: [\"AMSmath.js\"]\n",
        "                           },\n",
        "                tex2jax: {\n",
        "                    inlineMath: [ ['$','$'], [\"\\\\(\",\"\\\\)\"] ],\n",
        "                    displayMath: [ ['$$','$$'], [\"\\\\[\",\"\\\\]\"] ]\n",
        "                },\n",
        "                displayAlign: 'center', // Change this to 'center' to center equations.\n",
        "                \"HTML-CSS\": {\n",
        "                    styles: {'.MathJax_Display': {\"margin\": 4}}\n",
        "                }\n",
        "        });\n",
        "</script>\n"
       ],
       "metadata": {},
       "output_type": "pyout",
       "prompt_number": 31,
       "text": [
        "<IPython.core.display.HTML at 0x994d668>"
       ]
      }
     ],
     "prompt_number": 31
    }
   ],
   "metadata": {}
  }
 ]
}