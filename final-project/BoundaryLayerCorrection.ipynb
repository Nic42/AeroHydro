{
 "metadata": {
  "name": "",
  "signature": "sha256:b0f4392110471d39b083b4c8d3f02d396bb9e9e4a8b19282eaf20579f74f77e3"
 },
 "nbformat": 3,
 "nbformat_minor": 0,
 "worksheets": [
  {
   "cells": [
    {
     "cell_type": "heading",
     "level": 1,
     "metadata": {},
     "source": [
      "Boundary Layer Correction in a Two Dimensional Panel Method"
     ]
    },
    {
     "cell_type": "markdown",
     "metadata": {},
     "source": [
      "In all prior notebooks we have neglected all viscous forces. This is necessary for potential flow modelling, but this exception does result in non-negligible errors, especially at lower Reynolds numbers. This notebook will address these error by adding a boundary layer correction scheme to the potential flow code around a NACA0012 airfoil we've been working with in the last few notebooks.\n",
      "\n",
      "In two dimensional flow around an airfoil one can consider the viscous effects to be confined to a thin layer on the surface. The boundary layer, as coined by Prandtl, is a region just above the surface where the frictional effects, caused by the no-slip condition, effect the flow tremedously. Outside the boundary layer the flow can be considered inviscid, hence potential flow theory applies. The impact of this concept by Prandtl, the boundary layer, on modern aerdynamics cannot be overstated. \n",
      "\n",
      "The boundary layer begins to grow the moment the flow comes in contact with the surface of the airfoil and continues to do so until the trailing edge. At a certian point in it's evolution the boundary layer transitions from a laminar scheme to a turbulent one, aptly named the transition point. To apply these concepts to the code we've been working with we will employ three methods: Thwaites', Michaels, and Heads. Thwaites' method applies to the laminar boundary layer, Michael's criterion determines the transition point, and Head's method applies to the turbulent boundary layer.\n",
      "\n",
      "As this notebook is meant as a correction to the already very powerful panel method we've been working with it will pull heavily from Lesson 11. "
     ]
    },
    {
     "cell_type": "heading",
     "level": 2,
     "metadata": {},
     "source": [
      "Discretizition of airfoil geometry"
     ]
    },
    {
     "cell_type": "markdown",
     "metadata": {},
     "source": [
      "As always, we start by importing the necessary libraries. We are using the same airfoil geometry as in Lesson 11, so we read that in as well."
     ]
    },
    {
     "cell_type": "code",
     "collapsed": false,
     "input": [
      "# importing libraries\n",
      "import numpy as np\n",
      "from scipy import integrate\n",
      "from math import *\n",
      "import matplotlib.pyplot as plt"
     ],
     "language": "python",
     "metadata": {},
     "outputs": [],
     "prompt_number": 79
    },
    {
     "cell_type": "code",
     "collapsed": false,
     "input": [
      "# reading geometry from file\n",
      "coords = np.loadtxt(fname='C:/Users/Ian/Documents/GitHub/AeroHydro/resources/naca0012.dat')\n",
      "xp,yp = coords[:,0],coords[:,1]"
     ],
     "language": "python",
     "metadata": {},
     "outputs": [],
     "prompt_number": 80
    },
    {
     "cell_type": "markdown",
     "metadata": {},
     "source": [
      "As with both Lesson 10 and 11, we define the attributes of a panel with the class Panel."
     ]
    },
    {
     "cell_type": "code",
     "collapsed": false,
     "input": [
      "# defining class Panel with info on one panel\n",
      "class Panel:\n",
      "    def __init__(self,xa,ya,xb,yb):\n",
      "        self.xa,self.ya = xa,ya         # defining 1st point\n",
      "        self.xb,self.yb = xb,yb         # defining 2nd point\n",
      "        self.xc,self.yc = (xa+xb)/2,(ya+yb)/2   # defining center point\n",
      "        self.length = sqrt((xb-xa)**2+(yb-ya)**2) # length of the panel\n",
      "        \n",
      "        # orientation of the panel\n",
      "        if (xb-xa<=0.): self.beta = acos((yb-ya)/self.length)\n",
      "        elif (xb-xa>0.): self.beta = pi+acos(-(yb-ya)/self.length)\n",
      "        \n",
      "        # location of the panel\n",
      "        if (self.beta<=pi): self.loc = 'extrados'\n",
      "        else: self.loc = 'intrados'\n",
      "        \n",
      "        self.sigma = 0          # source strength\n",
      "        self.vt = 0             # tangential velocity\n",
      "        self.Cp = 0             # pressure coeff\n",
      "        \n",
      "# the function below discretized the geometry into panels\n",
      "def definePanels(N,xp,yp):\n",
      "    \n",
      "    R = (max(xp)-min(xp))/2             # radius of the circle\n",
      "    xCenter = (max(xp)-min(xp))/2       # x-coord of the center\n",
      "    xCircle = xCenter + R*np.cos(np.linspace(0,2*pi,N+1)) # x of the circle pts\n",
      "    \n",
      "    x = np.copy(xCircle)    # projection of the x-coord on the airfoil\n",
      "    y = np.empty_like(x)    # initialization of the y coord array\n",
      "    \n",
      "    xp,yp = np.append(xp,xp[0]),np.append(yp,yp[0]) # entending arrays\n",
      "    \n",
      "    I = 0\n",
      "    for i in range(N):\n",
      "        while(I<len(xp)-1):\n",
      "            if (xp[I]<=x[i]<=xp[I+1] or xp[I+1]<=x[i]<=xp[I]): break\n",
      "            else: I += 1\n",
      "        a = (yp[I+1]-yp[I])/(xp[I+1]-xp[I])\n",
      "        b = yp[I+1]-a*xp[I+1]\n",
      "        y[i] = a*x[i]+b\n",
      "    y[N] = y[0]\n",
      "    \n",
      "    panel = np.empty(N,dtype=object)\n",
      "    for i in range(N):\n",
      "        panel[i] = Panel(x[i],y[i],x[i+1],y[i+1])\n",
      "        \n",
      "    return panel\n",
      "    \n",
      "N = 20                      #  number of panels <----------------\n",
      "panel = definePanels(N,xp,yp)   # discretization of the geometry into panels"
     ],
     "language": "python",
     "metadata": {},
     "outputs": [],
     "prompt_number": 81
    },
    {
     "cell_type": "heading",
     "level": 2,
     "metadata": {},
     "source": [
      "Freestream conditions"
     ]
    },
    {
     "cell_type": "markdown",
     "metadata": {},
     "source": [
      "The airfoil is in a steady freestream condition with a velocity $U_{inf}$ at an angle of attack of $\\alpha$. This is represented by the class 'Freestream'."
     ]
    },
    {
     "cell_type": "code",
     "collapsed": false,
     "input": [
      "# class Freestream containg the freestream conditions\n",
      "class Freestream:\n",
      "    def __init__(self,Uinf,alpha):\n",
      "        self.Uinf = Uinf                # bulk flow velo\n",
      "        self.alpha = alpha*pi/180       # angle of attack\n",
      "\n",
      "# defining parameters for above class\n",
      "Uinf = 1.0                              # freestream area\n",
      "alpha = 5.0                             # angle of attack\n",
      "freestream = Freestream(Uinf,alpha)     # instant of object freestream"
     ],
     "language": "python",
     "metadata": {},
     "outputs": [],
     "prompt_number": 82
    },
    {
     "cell_type": "heading",
     "level": 2,
     "metadata": {},
     "source": [
      "Flow tangency, the Kutta condition, and the linear system"
     ]
    },
    {
     "cell_type": "markdown",
     "metadata": {},
     "source": [
      "The focus of this lesson is to demonstrate a boundary layer correction method, but to do this we first need a geometry in a potential flow field. This geometry, as stated, is a NACA0012 airfoil with the potential flow field computed using a vortex source panel method, i.e. Lesson 11. The following code is explained in the previous lessons and is necessary for this lesson, but will be explained minimally as it is not the focus. \n",
      "\n",
      "In the next block of code we will be building the same linear system with the same steps in Lesson 11."
     ]
    },
    {
     "cell_type": "code",
     "collapsed": false,
     "input": [
      "# ---------- building a linear system -----------------\n",
      "\n",
      "# this system differs from the system in lesson 10 because it incorperates \n",
      "# vortices onto the panel to impose circulation to calculate lift which \n",
      "# requires the use of the kutta condition and tangential velocity/Cp\n",
      "\n",
      "# function to evaluate the integral Iij(zi)\n",
      "def I(xci,yci,pj,dxdz,dydz):\n",
      "    def func(s):\n",
      "        return (+(xci-(pj.xa-sin(pj.beta)*s))*dxdz\\\n",
      "                +(yci-(pj.ya+cos(pj.beta)*s))*dydz)\\\n",
      "               /((xci-(pj.xa-sin(pj.beta)*s))**2\\\n",
      "               + (yci-(pj.ya+cos(pj.beta)*s))**2)\n",
      "    return integrate.quad(lambda s:func(s),0.,pj.length)[0]"
     ],
     "language": "python",
     "metadata": {},
     "outputs": [],
     "prompt_number": 83
    },
    {
     "cell_type": "code",
     "collapsed": false,
     "input": [
      "# building the matrix for the source portion\n",
      "def sourceMatrix(p):\n",
      "    N = len(p)\n",
      "    A = np.empty((N,N),dtype=float)\n",
      "    np.fill_diagonal(A,0.5)\n",
      "    for i in range(N):\n",
      "        for j in range(N):\n",
      "            if (i!=j):\n",
      "                A[i,j] = 0.5/pi*I(p[i].xc,p[i].yc,p[j],+cos(p[i].beta),\\\n",
      "                                    +sin(p[i].beta))\n",
      "    return A\n",
      "    # where A is the matrix which is multiplied by the strengths on\n",
      "    # one side of the linear system of eqn"
     ],
     "language": "python",
     "metadata": {},
     "outputs": [],
     "prompt_number": 84
    },
    {
     "cell_type": "code",
     "collapsed": false,
     "input": [
      "# funciton to build the vortex portion of the system\n",
      "        \n",
      "def vortexArray(p):\n",
      "    N = len(p)\n",
      "    B = np.zeros(N,dtype=float)\n",
      "    for i in range(N):\n",
      "        for j in range(N):\n",
      "            if (j!=i):\n",
      "                B[i] -= 0.5/pi*I(p[i].xc,p[i].yc,p[j],+sin(p[i].beta),\\\n",
      "                                -cos(p[i].beta))\n",
      "    return B"
     ],
     "language": "python",
     "metadata": {},
     "outputs": [],
     "prompt_number": 85
    },
    {
     "cell_type": "code",
     "collapsed": false,
     "input": [
      "# and the kutta condition contribution to the array\n",
      "\n",
      "def kuttaArray(p):\n",
      "    N = len(p)\n",
      "    B = np.zeros(N+1,dtype=float)\n",
      "    for j in range(N):\n",
      "        if (j==0):\n",
      "            B[j] = 0.5/pi*I(p[N-1].xc,p[N-1].yc,p[j],-sin(p[N-1].beta),\\\n",
      "                            +cos(p[N-1].beta))\n",
      "        elif (j==N-1):\n",
      "            B[j] = 0.5/pi*I(p[0].xc,p[0].yc,p[j],-sin(p[0].beta),\\\n",
      "                            +cos(p[0].beta))\n",
      "        else:\n",
      "            B[j] = 0.5/pi*I(p[0].xc,p[0].yc,p[j],-sin(p[0].beta),+cos(p[0].beta))\\\n",
      "                + 0.5/pi*I(p[N-1].xc,p[N-1].yc,p[j],-sin(p[N-1].beta),+cos(p[N-1].beta))\n",
      "            B[N] -= 0.5/pi*I(p[0].xc,p[0].yc,p[j],+cos(p[0].beta),+sin(p[0].beta))\\\n",
      "                + 0.5/pi*I(p[N-1].xc,p[N-1].yc,p[j],+cos(p[N-1].beta),+sin(p[N-1].beta))\n",
      "    return B"
     ],
     "language": "python",
     "metadata": {},
     "outputs": [],
     "prompt_number": 86
    },
    {
     "cell_type": "code",
     "collapsed": false,
     "input": [
      "# these are the three parts of the linear system\n",
      "# we now assemble all these into the final matrix, called the global matrix\n",
      "\n",
      "# function to assemble the global matrix\n",
      "def buildMatrix(panel):\n",
      "    N = len(panel)\n",
      "    A = np.empty((N+1,N+1),dtype=float)\n",
      "    AS = sourceMatrix(panel)\n",
      "    BV = vortexArray(panel)\n",
      "    BK = kuttaArray(panel)\n",
      "    A[0:N,0:N],A[0:N,N],A[N,:] = AS[:,:],BV[:],BK[:]\n",
      "    return A  "
     ],
     "language": "python",
     "metadata": {},
     "outputs": [],
     "prompt_number": 87
    },
    {
     "cell_type": "code",
     "collapsed": false,
     "input": [
      "# funciton to build the RHS of the linear system\n",
      "def buildRHS(p,fs):\n",
      "    N = len(p)\n",
      "    B = np.zeros(N+1,dtype=float)\n",
      "    for i in range(N):\n",
      "        B[i] = -fs.Uinf*cos(fs.alpha-p[i].beta)\n",
      "    B[N] = -fs.Uinf*(sin(fs.alpha-p[0].beta)+sin(fs.alpha-p[N-1].beta))\n",
      "    return B"
     ],
     "language": "python",
     "metadata": {},
     "outputs": [],
     "prompt_number": 88
    },
    {
     "cell_type": "code",
     "collapsed": false,
     "input": [
      "A = buildMatrix(panel)              # calculating the singularity matrix\n",
      "B = buildRHS(panel,freestream)      # calculating the freestream RHS\n",
      "\n",
      "# solving the linear system\n",
      "var = np.linalg.solve(A,B)\n",
      "for i in range(len(panel)):\n",
      "    panel[i].sigma = var[i]\n",
      "gamma = var[-1]"
     ],
     "language": "python",
     "metadata": {},
     "outputs": [],
     "prompt_number": 89
    },
    {
     "cell_type": "markdown",
     "metadata": {},
     "source": [
      "The function 'getTangentialVelocity' is defined to, obviously, compute the tangential velocity."
     ]
    },
    {
     "cell_type": "code",
     "collapsed": false,
     "input": [
      "# ----------- imposing tangential velocity ------------------\n",
      "\n",
      "# now getting the tangential velocity to impose the kutta condition\n",
      "def getTangentialVelocity(p,fs,gamma):\n",
      "    N = len(p)\n",
      "    A = np.zeros((N,N+1),dtype=float)\n",
      "    for i in range(N):\n",
      "        for j in range(N):\n",
      "            if (i!=j):\n",
      "                A[i,j] = 0.5/pi*I(p[i].xc,p[i].yc,p[j],-sin(p[i].beta),\\\n",
      "                                +cos(p[i].beta))\n",
      "                A[i,N] -= 0.5/pi*I(p[i].xc,p[i].yc,p[j],+cos(p[i].beta),\\\n",
      "                                +sin(p[i].beta))\n",
      "\n",
      "    B = fs.Uinf*np.sin([fs.alpha-pp.beta for pp in p])\n",
      "    var = np.empty(N+1,dtype=float)\n",
      "    var = np.append([pp.sigma for pp in p],gamma)\n",
      "    vt = np.dot(A,var)+B\n",
      "    for i in range(N):\n",
      "        p[i].vt = vt[i]\n",
      "        \n",
      "getTangentialVelocity(panel,freestream,gamma) # getting tangential velocity"
     ],
     "language": "python",
     "metadata": {},
     "outputs": [],
     "prompt_number": 90
    },
    {
     "cell_type": "heading",
     "level": 2,
     "metadata": {},
     "source": [
      "Boundary Layer Calculation"
     ]
    },
    {
     "cell_type": "markdown",
     "metadata": {},
     "source": [
      "As said in the beginning of this notebook the boundary layer calculation and subsequent correction will be done in three parts. First, the laminar portion. For a more complete and comprehensive derivation of the following equation see \\emph{An Introduction to Theoretical and Computational Aerodynamics} by Jack Moran."
     ]
    },
    {
     "cell_type": "heading",
     "level": 3,
     "metadata": {},
     "source": [
      "Thwaites' Method for Laminar Boundary Layer"
     ]
    },
    {
     "cell_type": "markdown",
     "metadata": {},
     "source": [
      "For the sake of this calcualtion the first value to calculate is the momentum thickness, $\\theta$. \n",
      "\\begin{equation}\n",
      "\\theta(s) = \\sqrt{\\frac{0.45\\nu}{V_{e}^{6}} \\int_{0}^{s}{V_{e}^{5} ds}},\n",
      "\\end{equation}\n",
      "\n",
      "where $V_e$ is the tangential velocity and $s$ is the coordinate along the surface of the airfoil. The momentum thickness takes on a specific value at the stagnation points which is given by a separate equation.\n",
      "\n",
      "\\begin{equation}\n",
      "\\theta(0) = \\sqrt{\\frac{0.75\\nu}{\\frac{dV_e (0)}{ds}}}\n",
      "\\end{equation}\n",
      "\n",
      "Once the momentum thickness is calculated you can use this to calculate the pressure-gradient parameter, as Thwaites calls it, denoted $\\lambda$.\n",
      "\n",
      "\\begin{equation}\n",
      "\\lambda \\equiv \\frac{\\rho \\theta^2}{\\mu} \\frac{dV_e}{ds}\n",
      "\\end{equation}\n",
      "\n",
      "You can then use correlations calculated by Cebecci & Bradshaw to get the shape factor H. \n",
      "\n",
      "\n",
      "H(\\lambda) = 2.61 - 3.75 \\lambda + 5.24 \\lambda^2 \\quad\\quad \\text{when} \\quad 0<\\lambda\\<0.1\n",
      "\n",
      "\\begin{equation}\n",
      "H(\\lambda) = 2.088 + \\frac{0.0731}{\\lambda+0.14} \\quad\\quad \\text{when}\\quad -0.1<\\lambda\\<0\n",
      "\\end{equation}\n",
      "\n",
      "From the shape factor one can use its definition to find the displacement thickness $\\delta^\\star$.\n",
      "\n",
      "\\begin{equation}\n",
      "H \\equiv \\frac{\\delta^\\star}{\\theta}\n",
      "\\end{equation}\n",
      "\n",
      "Another important parameter we can calculate using coorelations and the pressure gradient parameter is $\\lambda$ is the skin friction, $c_f$. The calculation is done through the Reynolds number independent paramter $l$ as shown.\n",
      "\n",
      "\\begin{equation}\n",
      "l(\\lambda) = 0.22 + 1.57\\lambda -1.8 \\lambda^2 \\quad \\quad \\text{when} \\quad 0<\\lambda <0.1\n",
      "\\end{equation}\n",
      "\n",
      "\\begin{equation}\n",
      "l(\\lambda) = 0.22 + 1.402\\lambda +\\frac{0.018\\lambda}{\\lambda+ 0.107} \\quad\\quad \\text{when}\\quad -0.1<\\lambda<0\n",
      "\\end{equation}\n",
      "\n",
      "One can then use the definition of $l$ to calculate $c_f$. \n",
      "\n",
      "\\begin{equation}\n",
      "l \\equiv \\frac{1}{2} Re_{\\theta} c_f\n",
      "\\end{equation}"
     ]
    },
    {
     "cell_type": "heading",
     "level": 3,
     "metadata": {},
     "source": [
      "Michael's Transition Criterion"
     ]
    },
    {
     "cell_type": "markdown",
     "metadata": {},
     "source": [
      "As mentioned at some point in it's evolution the boundary layer transitions from laminar flow to turbulent. With the parameters calculated with Thwaites' method the point of transion for airfoil-type applications is expected when\n",
      "\n",
      "\\begin{equation}\n",
      "Re_{\\theta} > 1.174(1+ \\frac{22,400}{Re_s})Re_{s}^{0.46}\n",
      "\\end{equation}\n",
      "\n",
      "where $Re_{\\theta}$ is the Reynolds number based on the momentum thickness and $Re_s$ is the Reynolds number based on the position along the airfoil, as shown.\n",
      "\n",
      "\\begin{equation}\n",
      "Re_{\\theta} \\equiv \\frac{\\rho V_e \\theta}{\\mu} \\quad \\quad Re_s \\equiv \\frac{\\rho V_e s}{\\mu}\n",
      "\\end{equation}"
     ]
    },
    {
     "cell_type": "heading",
     "level": 3,
     "metadata": {},
     "source": [
      "Head's Method for Turbulent Boundary Layers"
     ]
    },
    {
     "cell_type": "markdown",
     "metadata": {},
     "source": [
      "For the purposes of this notebook Head's Method consists of four equations and four unknowns. Three of these unknowns are the same parameters calculated in Twaites' Method, the momentum thickness $\\theta$, the shape factor $H$, and the skin-friction $c_f$. The fourth unknown is a parameter Head calls $H_1$, which only depends on the value of $H$. The first value of $H$ is determined by it's value at transition. \n",
      "\n",
      "Our program is now tasked with solving four equations, two of which are differential, simultaneously. These four equations are as follows.\n",
      "\n",
      "The von Karman momentum integral equation.\n",
      "\n",
      "\\begin{equation}\n",
      "\\frac{d\\theta}{dx} + \\frac{\\theta}{V_e} (2+H) \\frac{dV_e}{dx} = \\frac{1}{2} c_f\n",
      "\\end{equation}\n",
      "\n",
      "Cebeci and Bradshaw's correlations from experimental data.\n",
      "\n",
      "\\begin{equation}\n",
      "\\frac{1}{V_e} \\frac{d}{dx} (V_e \\theta H_1) = 0.0306(H_1 -3)^{-0.6169}\n",
      "\\end{equation}\n",
      "\n",
      "Cebeci and Bradshaw's conditional equations for $H_1$.\n",
      "\n",
      "\\begin{equation}\n",
      "H_1 = 3.3 + 0.8234(H-1.1)^{-1.287} \\quad \\quad \\text{for}\\quad H \\le 1.6\n",
      "\\end{equation}\n",
      "\n",
      "\\begin{equation}\n",
      "H_1 = 3.3 + 1.5501(H-0.6678)^{-3.064} \\quad \\quad \\text{for}\\quad H > 1.6\n",
      "\\end{equation}\n",
      "\n",
      "Finally, Ludwieg-Tillman's skin-friction \"law\".\n",
      "\n",
      "\\begin{equation}\n",
      "c_f = 0.246 * 10^{-0.678H} Re_{\\theta}^{-0.268}\n",
      "\\end{equation}\n"
     ]
    },
    {
     "cell_type": "heading",
     "level": 3,
     "metadata": {},
     "source": [
      "Wall Shear Stress"
     ]
    },
    {
     "cell_type": "markdown",
     "metadata": {},
     "source": [
      "Now that the laminar,transition and turbulent regions have been modeled we can use the value of $c_f$ to calculate wall shear stress, $\\tau$. This term when calculated for over the surface of the airfoil is the viscous drag.\n",
      "\n",
      "\\begin{equation}\n",
      "\\tau_w = c_f \\frac{1}{2} \\rho V_e^{2}\n",
      "\\end{equation}"
     ]
    },
    {
     "cell_type": "code",
     "collapsed": false,
     "input": [
      "from IPython.core.display import HTML\n",
      "def css_styling():\n",
      "    styles = open('../styles/custom.css', 'r').read()\n",
      "    return HTML(styles)\n",
      "css_styling()"
     ],
     "language": "python",
     "metadata": {},
     "outputs": [
      {
       "html": [
        "<link href='http://fonts.googleapis.com/css?family=Fenix' rel='stylesheet' type='text/css'>\n",
        "<link href='http://fonts.googleapis.com/css?family=Alegreya+Sans:100,300,400,500,700,800,900,100italic,300italic,400italic,500italic,700italic,800italic,900italic' rel='stylesheet' type='text/css'>\n",
        "<link href='http://fonts.googleapis.com/css?family=Source+Code+Pro:300,400' rel='stylesheet' type='text/css'>\n",
        "<style>\n",
        "    @font-face {\n",
        "        font-family: \"Computer Modern\";\n",
        "        src: url('http://mirrors.ctan.org/fonts/cm-unicode/fonts/otf/cmunss.otf');\n",
        "    }\n",
        "    div.cell{\n",
        "        width:800px;\n",
        "        margin-left:16% !important;\n",
        "        margin-right:auto;\n",
        "    }\n",
        "    h1 {\n",
        "        font-family: 'Alegreya Sans', sans-serif;\n",
        "    }\n",
        "    h2 {\n",
        "        font-family: 'Fenix', serif;\n",
        "    }\n",
        "    h3{\n",
        "\t\tfont-family: 'Fenix', serif;\n",
        "        margin-top:12px;\n",
        "        margin-bottom: 3px;\n",
        "       }\n",
        "\th4{\n",
        "\t\tfont-family: 'Fenix', serif;\n",
        "       }\n",
        "    h5 {\n",
        "        font-family: 'Alegreya Sans', sans-serif;\n",
        "    }\t   \n",
        "    div.text_cell_render{\n",
        "        font-family: 'Alegreya Sans',Computer Modern, \"Helvetica Neue\", Arial, Helvetica, Geneva, sans-serif;\n",
        "        line-height: 135%;\n",
        "        font-size: 120%;\n",
        "        width:600px;\n",
        "        margin-left:auto;\n",
        "        margin-right:auto;\n",
        "    }\n",
        "    .CodeMirror{\n",
        "            font-family: \"Source Code Pro\";\n",
        "\t\t\tfont-size: 90%;\n",
        "    }\n",
        "/*    .prompt{\n",
        "        display: None;\n",
        "    }*/\n",
        "    .text_cell_render h1 {\n",
        "        font-weight: 200;\n",
        "        font-size: 50pt;\n",
        "\t\tline-height: 100%;\n",
        "        color:#CD2305;\n",
        "        margin-bottom: 0.5em;\n",
        "        margin-top: 0.5em;\n",
        "        display: block;\n",
        "    }\t\n",
        "    .text_cell_render h5 {\n",
        "        font-weight: 300;\n",
        "        font-size: 16pt;\n",
        "        color: #CD2305;\n",
        "        font-style: italic;\n",
        "        margin-bottom: .5em;\n",
        "        margin-top: 0.5em;\n",
        "        display: block;\n",
        "    }\n",
        "    \n",
        "    .warning{\n",
        "        color: rgb( 240, 20, 20 )\n",
        "        }  \n",
        "</style>\n",
        "<script>\n",
        "    MathJax.Hub.Config({\n",
        "                        TeX: {\n",
        "                           extensions: [\"AMSmath.js\"]\n",
        "                           },\n",
        "                tex2jax: {\n",
        "                    inlineMath: [ ['$','$'], [\"\\\\(\",\"\\\\)\"] ],\n",
        "                    displayMath: [ ['$$','$$'], [\"\\\\[\",\"\\\\]\"] ]\n",
        "                },\n",
        "                displayAlign: 'center', // Change this to 'center' to center equations.\n",
        "                \"HTML-CSS\": {\n",
        "                    styles: {'.MathJax_Display': {\"margin\": 4}}\n",
        "                }\n",
        "        });\n",
        "</script>\n"
       ],
       "metadata": {},
       "output_type": "pyout",
       "prompt_number": 91,
       "text": [
        "<IPython.core.display.HTML at 0xa10f898>"
       ]
      }
     ],
     "prompt_number": 91
    }
   ],
   "metadata": {}
  }
 ]
}